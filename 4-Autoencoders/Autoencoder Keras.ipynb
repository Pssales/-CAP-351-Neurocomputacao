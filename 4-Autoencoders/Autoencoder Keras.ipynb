{
 "cells": [
  {
   "cell_type": "code",
   "execution_count": 12,
   "metadata": {
    "ExecuteTime": {
     "end_time": "2019-11-20T22:40:26.534371Z",
     "start_time": "2019-11-20T22:40:19.275078Z"
    }
   },
   "outputs": [],
   "source": [
    "from keras.layers import Input, Dense\n",
    "from keras.models import Model\n",
    "\n",
    "# this is the size of our encoded representations\n",
    "encoding_dim = 32  # 32 floats -> compression of factor 24.5, assuming the input is 784 floats\n",
    "\n",
    "# this is our input placeholder\n",
    "input_img = Input(shape=(784,))\n",
    "# \"encoded\" is the encoded representation of the input\n",
    "encoded = Dense(encoding_dim, activation='relu')(input_img)\n",
    "# \"decoded\" is the lossy reconstruction of the input\n",
    "decoded = Dense(784, activation='sigmoid')(encoded)\n",
    "\n",
    "# this model maps an input to its reconstruction\n",
    "autoencoder = Model(input_img, decoded)"
   ]
  },
  {
   "cell_type": "code",
   "execution_count": 24,
   "metadata": {},
   "outputs": [],
   "source": [
    "a = np.load('../data/dates.npy')"
   ]
  },
  {
   "cell_type": "code",
   "execution_count": 25,
   "metadata": {},
   "outputs": [
    {
     "data": {
      "text/plain": [
       "array([datetime.date(2017, 1, 1), datetime.date(2017, 1, 17)],\n",
       "      dtype=object)"
      ]
     },
     "execution_count": 25,
     "metadata": {},
     "output_type": "execute_result"
    }
   ],
   "source": [
    "a"
   ]
  },
  {
   "cell_type": "code",
   "execution_count": null,
   "metadata": {},
   "outputs": [],
   "source": []
  },
  {
   "cell_type": "code",
   "execution_count": null,
   "metadata": {},
   "outputs": [],
   "source": []
  },
  {
   "cell_type": "code",
   "execution_count": 13,
   "metadata": {
    "ExecuteTime": {
     "end_time": "2019-11-20T22:40:26.547352Z",
     "start_time": "2019-11-20T22:40:26.537356Z"
    }
   },
   "outputs": [],
   "source": [
    "encoder = Model(input_img, encoded)"
   ]
  },
  {
   "cell_type": "code",
   "execution_count": 14,
   "metadata": {
    "ExecuteTime": {
     "end_time": "2019-11-20T22:40:26.682538Z",
     "start_time": "2019-11-20T22:40:26.553348Z"
    }
   },
   "outputs": [],
   "source": [
    "# create a placeholder for an encoded (32-dimensional) input\n",
    "encoded_input = Input(shape=(encoding_dim,))\n",
    "# retrieve the last layer of the autoencoder model\n",
    "decoder_layer = autoencoder.layers[-1]\n",
    "# create the decoder model\n",
    "decoder = Model(encoded_input, decoder_layer(encoded_input))"
   ]
  },
  {
   "cell_type": "code",
   "execution_count": 15,
   "metadata": {
    "ExecuteTime": {
     "end_time": "2019-11-20T22:40:26.831515Z",
     "start_time": "2019-11-20T22:40:26.685512Z"
    }
   },
   "outputs": [],
   "source": [
    "autoencoder.compile(optimizer='adadelta', loss='binary_crossentropy')"
   ]
  },
  {
   "cell_type": "code",
   "execution_count": 16,
   "metadata": {
    "ExecuteTime": {
     "end_time": "2019-11-20T22:40:27.331467Z",
     "start_time": "2019-11-20T22:40:26.834492Z"
    }
   },
   "outputs": [],
   "source": [
    "from keras.datasets import mnist\n",
    "import numpy as np\n",
    "(x_train, _), (x_test, _) = mnist.load_data()"
   ]
  },
  {
   "cell_type": "code",
   "execution_count": 17,
   "metadata": {
    "ExecuteTime": {
     "end_time": "2019-11-20T22:40:27.661258Z",
     "start_time": "2019-11-20T22:40:27.334460Z"
    }
   },
   "outputs": [
    {
     "name": "stdout",
     "output_type": "stream",
     "text": [
      "(60000, 784)\n",
      "(10000, 784)\n"
     ]
    }
   ],
   "source": [
    "x_train = x_train.astype('float32') / 255.\n",
    "x_test = x_test.astype('float32') / 255.\n",
    "x_train = x_train.reshape((len(x_train), np.prod(x_train.shape[1:])))\n",
    "x_test = x_test.reshape((len(x_test), np.prod(x_test.shape[1:])))\n",
    "print(x_train.shape)\n",
    "print(x_test.shape)"
   ]
  },
  {
   "cell_type": "code",
   "execution_count": 18,
   "metadata": {
    "ExecuteTime": {
     "end_time": "2019-11-20T22:43:33.884159Z",
     "start_time": "2019-11-20T22:40:27.665256Z"
    },
    "scrolled": false
   },
   "outputs": [
    {
     "name": "stdout",
     "output_type": "stream",
     "text": [
      "Train on 60000 samples, validate on 10000 samples\n",
      "Epoch 1/80\n",
      "60000/60000 [==============================] - 3s 50us/step - loss: 0.3575 - val_loss: 0.2699\n",
      "Epoch 2/80\n",
      "60000/60000 [==============================] - 3s 46us/step - loss: 0.2615 - val_loss: 0.2496\n",
      "Epoch 3/80\n",
      "60000/60000 [==============================] - 3s 44us/step - loss: 0.2389 - val_loss: 0.2265\n",
      "Epoch 4/80\n",
      "60000/60000 [==============================] - 3s 43us/step - loss: 0.2185 - val_loss: 0.2087\n",
      "Epoch 5/80\n",
      "60000/60000 [==============================] - 3s 44us/step - loss: 0.2034 - val_loss: 0.1958\n",
      "Epoch 6/80\n",
      "60000/60000 [==============================] - 3s 44us/step - loss: 0.1921 - val_loss: 0.1861\n",
      "Epoch 7/80\n",
      "60000/60000 [==============================] - 3s 44us/step - loss: 0.1836 - val_loss: 0.1786\n",
      "Epoch 8/80\n",
      "60000/60000 [==============================] - 3s 43us/step - loss: 0.1770 - val_loss: 0.1727\n",
      "Epoch 9/80\n",
      "60000/60000 [==============================] - 3s 44us/step - loss: 0.1715 - val_loss: 0.1676\n",
      "Epoch 10/80\n",
      "60000/60000 [==============================] - 3s 44us/step - loss: 0.1668 - val_loss: 0.1632\n",
      "Epoch 11/80\n",
      "60000/60000 [==============================] - 3s 44us/step - loss: 0.1625 - val_loss: 0.1590\n",
      "Epoch 12/80\n",
      "60000/60000 [==============================] - 3s 44us/step - loss: 0.1586 - val_loss: 0.1553\n",
      "Epoch 13/80\n",
      "60000/60000 [==============================] - 3s 44us/step - loss: 0.1550 - val_loss: 0.1518\n",
      "Epoch 14/80\n",
      "60000/60000 [==============================] - 3s 44us/step - loss: 0.1516 - val_loss: 0.1485\n",
      "Epoch 15/80\n",
      "60000/60000 [==============================] - 3s 43us/step - loss: 0.1485 - val_loss: 0.1456\n",
      "Epoch 16/80\n",
      "60000/60000 [==============================] - 3s 43us/step - loss: 0.1457 - val_loss: 0.1428\n",
      "Epoch 17/80\n",
      "60000/60000 [==============================] - 3s 44us/step - loss: 0.1431 - val_loss: 0.1403\n",
      "Epoch 18/80\n",
      "60000/60000 [==============================] - 3s 42us/step - loss: 0.1407 - val_loss: 0.1380\n",
      "Epoch 19/80\n",
      "60000/60000 [==============================] - 3s 43us/step - loss: 0.1385 - val_loss: 0.1358\n",
      "Epoch 20/80\n",
      "60000/60000 [==============================] - 3s 45us/step - loss: 0.1363 - val_loss: 0.1337\n",
      "Epoch 21/80\n",
      "60000/60000 [==============================] - 3s 44us/step - loss: 0.1343 - val_loss: 0.1317\n",
      "Epoch 22/80\n",
      "60000/60000 [==============================] - 3s 44us/step - loss: 0.1324 - val_loss: 0.1298\n",
      "Epoch 23/80\n",
      "60000/60000 [==============================] - 3s 43us/step - loss: 0.1305 - val_loss: 0.1280\n",
      "Epoch 24/80\n",
      "60000/60000 [==============================] - 3s 44us/step - loss: 0.1286 - val_loss: 0.1262\n",
      "Epoch 25/80\n",
      "60000/60000 [==============================] - 3s 43us/step - loss: 0.1269 - val_loss: 0.1244\n",
      "Epoch 26/80\n",
      "60000/60000 [==============================] - 3s 43us/step - loss: 0.1251 - val_loss: 0.1227\n",
      "Epoch 27/80\n",
      "60000/60000 [==============================] - 3s 43us/step - loss: 0.1235 - val_loss: 0.1210\n",
      "Epoch 28/80\n",
      "60000/60000 [==============================] - 3s 43us/step - loss: 0.1219 - val_loss: 0.1194\n",
      "Epoch 29/80\n",
      "60000/60000 [==============================] - 3s 43us/step - loss: 0.1204 - val_loss: 0.1181\n",
      "Epoch 30/80\n",
      "60000/60000 [==============================] - 3s 44us/step - loss: 0.1189 - val_loss: 0.1166\n",
      "Epoch 31/80\n",
      "60000/60000 [==============================] - 3s 43us/step - loss: 0.1176 - val_loss: 0.1153\n",
      "Epoch 32/80\n",
      "60000/60000 [==============================] - 3s 43us/step - loss: 0.1163 - val_loss: 0.1141\n",
      "Epoch 33/80\n",
      "60000/60000 [==============================] - 3s 43us/step - loss: 0.1151 - val_loss: 0.1129\n",
      "Epoch 34/80\n",
      "60000/60000 [==============================] - 3s 43us/step - loss: 0.1140 - val_loss: 0.1118\n",
      "Epoch 35/80\n",
      "60000/60000 [==============================] - 3s 44us/step - loss: 0.1129 - val_loss: 0.1108\n",
      "Epoch 36/80\n",
      "60000/60000 [==============================] - 3s 43us/step - loss: 0.1120 - val_loss: 0.1099\n",
      "Epoch 37/80\n",
      "60000/60000 [==============================] - 3s 44us/step - loss: 0.1111 - val_loss: 0.1090\n",
      "Epoch 38/80\n",
      "60000/60000 [==============================] - 3s 43us/step - loss: 0.1102 - val_loss: 0.1082\n",
      "Epoch 39/80\n",
      "60000/60000 [==============================] - 3s 44us/step - loss: 0.1094 - val_loss: 0.1075\n",
      "Epoch 40/80\n",
      "60000/60000 [==============================] - 3s 43us/step - loss: 0.1087 - val_loss: 0.1067\n",
      "Epoch 41/80\n",
      "60000/60000 [==============================] - 3s 44us/step - loss: 0.1080 - val_loss: 0.1061\n",
      "Epoch 42/80\n",
      "60000/60000 [==============================] - 3s 43us/step - loss: 0.1074 - val_loss: 0.1055\n",
      "Epoch 43/80\n",
      "60000/60000 [==============================] - 4s 63us/step - loss: 0.1068 - val_loss: 0.1049: 0.10\n",
      "Epoch 44/80\n",
      "60000/60000 [==============================] - 3s 44us/step - loss: 0.1062 - val_loss: 0.1043\n",
      "Epoch 45/80\n",
      "60000/60000 [==============================] - 3s 45us/step - loss: 0.1057 - val_loss: 0.1038\n",
      "Epoch 46/80\n",
      "60000/60000 [==============================] - 3s 43us/step - loss: 0.1052 - val_loss: 0.1034\n",
      "Epoch 47/80\n",
      "60000/60000 [==============================] - 3s 44us/step - loss: 0.1047 - val_loss: 0.1029\n",
      "Epoch 48/80\n",
      "60000/60000 [==============================] - 3s 43us/step - loss: 0.1043 - val_loss: 0.1025\n",
      "Epoch 49/80\n",
      "60000/60000 [==============================] - 3s 45us/step - loss: 0.1039 - val_loss: 0.1021\n",
      "Epoch 50/80\n",
      "60000/60000 [==============================] - 3s 44us/step - loss: 0.1035 - val_loss: 0.1018\n",
      "Epoch 51/80\n",
      "60000/60000 [==============================] - 3s 44us/step - loss: 0.1032 - val_loss: 0.1014\n",
      "Epoch 52/80\n",
      "60000/60000 [==============================] - 3s 44us/step - loss: 0.1029 - val_loss: 0.1011\n",
      "Epoch 53/80\n",
      "60000/60000 [==============================] - 3s 45us/step - loss: 0.1026 - val_loss: 0.1008\n",
      "Epoch 54/80\n",
      "60000/60000 [==============================] - 3s 48us/step - loss: 0.1023 - val_loss: 0.1006\n",
      "Epoch 55/80\n",
      "60000/60000 [==============================] - 3s 43us/step - loss: 0.1020 - val_loss: 0.1003\n",
      "Epoch 56/80\n",
      "60000/60000 [==============================] - 3s 43us/step - loss: 0.1017 - val_loss: 0.1000\n",
      "Epoch 57/80\n",
      "60000/60000 [==============================] - 3s 49us/step - loss: 0.1015 - val_loss: 0.0998\n",
      "Epoch 58/80\n",
      "60000/60000 [==============================] - 3s 46us/step - loss: 0.1012 - val_loss: 0.0996\n",
      "Epoch 59/80\n",
      "60000/60000 [==============================] - 3s 48us/step - loss: 0.1010 - val_loss: 0.0994\n",
      "Epoch 60/80\n",
      "60000/60000 [==============================] - 3s 48us/step - loss: 0.1008 - val_loss: 0.0992\n",
      "Epoch 61/80\n",
      "60000/60000 [==============================] - 2s 36us/step - loss: 0.1006 - val_loss: 0.0990\n",
      "Epoch 62/80\n",
      "60000/60000 [==============================] - 2s 36us/step - loss: 0.1004 - val_loss: 0.0988\n",
      "Epoch 63/80\n",
      "60000/60000 [==============================] - 2s 35us/step - loss: 0.1003 - val_loss: 0.0986\n",
      "Epoch 64/80\n",
      "60000/60000 [==============================] - 2s 34us/step - loss: 0.1001 - val_loss: 0.0985\n",
      "Epoch 65/80\n",
      "60000/60000 [==============================] - 2s 35us/step - loss: 0.0999 - val_loss: 0.0983\n",
      "Epoch 66/80\n",
      "60000/60000 [==============================] - 2s 34us/step - loss: 0.0998 - val_loss: 0.0982\n",
      "Epoch 67/80\n",
      "60000/60000 [==============================] - 2s 34us/step - loss: 0.0996 - val_loss: 0.0980\n",
      "Epoch 68/80\n",
      "60000/60000 [==============================] - 2s 34us/step - loss: 0.0995 - val_loss: 0.0979\n",
      "Epoch 69/80\n",
      "60000/60000 [==============================] - 2s 35us/step - loss: 0.0993 - val_loss: 0.0978\n",
      "Epoch 70/80\n",
      "60000/60000 [==============================] - 2s 34us/step - loss: 0.0992 - val_loss: 0.0976\n",
      "Epoch 71/80\n",
      "60000/60000 [==============================] - 2s 34us/step - loss: 0.0991 - val_loss: 0.0975\n",
      "Epoch 72/80\n",
      "60000/60000 [==============================] - 2s 34us/step - loss: 0.0990 - val_loss: 0.0974\n",
      "Epoch 73/80\n",
      "60000/60000 [==============================] - 2s 34us/step - loss: 0.0989 - val_loss: 0.0973\n",
      "Epoch 74/80\n",
      "60000/60000 [==============================] - 2s 34us/step - loss: 0.0987 - val_loss: 0.0972\n",
      "Epoch 75/80\n",
      "60000/60000 [==============================] - 2s 34us/step - loss: 0.0986 - val_loss: 0.0971\n",
      "Epoch 76/80\n",
      "60000/60000 [==============================] - 2s 34us/step - loss: 0.0985 - val_loss: 0.0970\n",
      "Epoch 77/80\n",
      "60000/60000 [==============================] - 2s 34us/step - loss: 0.0984 - val_loss: 0.0969\n"
     ]
    },
    {
     "name": "stdout",
     "output_type": "stream",
     "text": [
      "Epoch 78/80\n",
      "60000/60000 [==============================] - 2s 34us/step - loss: 0.0984 - val_loss: 0.0968\n",
      "Epoch 79/80\n",
      "60000/60000 [==============================] - 2s 34us/step - loss: 0.0983 - val_loss: 0.0967\n",
      "Epoch 80/80\n",
      "60000/60000 [==============================] - 2s 34us/step - loss: 0.0982 - val_loss: 0.0967\n"
     ]
    },
    {
     "data": {
      "text/plain": [
       "<keras.callbacks.callbacks.History at 0x1a1887b1518>"
      ]
     },
     "execution_count": 18,
     "metadata": {},
     "output_type": "execute_result"
    }
   ],
   "source": [
    "autoencoder.fit(x_train, x_train,\n",
    "                epochs=80,\n",
    "                batch_size=256,\n",
    "                shuffle=True,\n",
    "                validation_data=(x_test, x_test))"
   ]
  },
  {
   "cell_type": "code",
   "execution_count": 19,
   "metadata": {
    "ExecuteTime": {
     "end_time": "2019-11-20T22:43:34.274623Z",
     "start_time": "2019-11-20T22:43:33.889156Z"
    }
   },
   "outputs": [],
   "source": [
    "# encode and decode some digits\n",
    "# note that we take them from the *test* set\n",
    "encoded_imgs = encoder.predict(x_test)\n",
    "decoded_imgs = decoder.predict(encoded_imgs)"
   ]
  },
  {
   "cell_type": "code",
   "execution_count": 20,
   "metadata": {
    "ExecuteTime": {
     "end_time": "2019-11-20T22:43:35.133173Z",
     "start_time": "2019-11-20T22:43:34.277619Z"
    }
   },
   "outputs": [
    {
     "data": {
      "image/png": "[encoded data removed]",
      "text/plain": [
       "<Figure size 1440x288 with 20 Axes>"
      ]
     },
     "metadata": {
      "needs_background": "light"
     },
     "output_type": "display_data"
    }
   ],
   "source": [
    "import matplotlib.pyplot as plt\n",
    "\n",
    "n = 10  # how many digits we will display\n",
    "plt.figure(figsize=(20, 4))\n",
    "for i in range(n):\n",
    "    # display original\n",
    "    ax = plt.subplot(2, n, i + 1)\n",
    "    plt.imshow(x_test[i].reshape(28, 28))\n",
    "    plt.gray()\n",
    "    ax.get_xaxis().set_visible(False)\n",
    "    ax.get_yaxis().set_visible(False)\n",
    "\n",
    "    # display reconstruction\n",
    "    ax = plt.subplot(2, n, i + 1 + n)\n",
    "    plt.imshow(decoded_imgs[i].reshape(28, 28))\n",
    "    plt.gray()\n",
    "    ax.get_xaxis().set_visible(False)\n",
    "    ax.get_yaxis().set_visible(False)\n",
    "  \n",
    "plt.plot()\n",
    "plt.show()  "
   ]
  },
  {
   "cell_type": "markdown",
   "metadata": {},
   "source": [
    "### Adding a sparsity constraint on the encoded representations\n"
   ]
  },
  {
   "cell_type": "code",
   "execution_count": 10,
   "metadata": {
    "ExecuteTime": {
     "end_time": "2019-11-20T22:43:35.210142Z",
     "start_time": "2019-11-20T22:43:35.136177Z"
    }
   },
   "outputs": [],
   "source": [
    "from keras import regularizers\n",
    "\n",
    "encoding_dim = 32\n",
    "\n",
    "input_img = Input(shape=(784,))\n",
    "# add a Dense layer with a L1 activity regularizer\n",
    "encoded = Dense(encoding_dim, activation='relu',\n",
    "                activity_regularizer=regularizers.l1(10e-5))(input_img)\n",
    "decoded = Dense(784, activation='sigmoid')(encoded)\n",
    "\n",
    "autoencoder = Model(input_img, decoded)"
   ]
  },
  {
   "cell_type": "code",
   "execution_count": null,
   "metadata": {},
   "outputs": [],
   "source": []
  },
  {
   "cell_type": "code",
   "execution_count": null,
   "metadata": {},
   "outputs": [],
   "source": []
  },
  {
   "cell_type": "code",
   "execution_count": null,
   "metadata": {},
   "outputs": [],
   "source": []
  },
  {
   "cell_type": "code",
   "execution_count": null,
   "metadata": {},
   "outputs": [],
   "source": []
  }
 ],
 "metadata": {
  "kernelspec": {
   "display_name": "Python [conda env:pdi] *",
   "language": "python",
   "name": "conda-env-pdi-py"
  },
  "language_info": {
   "codemirror_mode": {
    "name": "ipython",
    "version": 3
   },
   "file_extension": ".py",
   "mimetype": "text/x-python",
   "name": "python",
   "nbconvert_exporter": "python",
   "pygments_lexer": "ipython3",
   "version": "3.6.8"
  }
 },
 "nbformat": 4,
 "nbformat_minor": 2
}
