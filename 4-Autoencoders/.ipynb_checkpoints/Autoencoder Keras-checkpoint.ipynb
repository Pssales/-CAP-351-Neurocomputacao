{
 "cells": [
  {
   "cell_type": "code",
   "execution_count": 1,
   "metadata": {
    "ExecuteTime": {
     "end_time": "2019-11-20T22:40:26.534371Z",
     "start_time": "2019-11-20T22:40:19.275078Z"
    }
   },
   "outputs": [
    {
     "name": "stderr",
     "output_type": "stream",
     "text": [
      "Using TensorFlow backend.\n"
     ]
    },
    {
     "name": "stdout",
     "output_type": "stream",
     "text": [
      "WARNING:tensorflow:From C:\\Users\\Camila\\Anaconda3\\envs\\pdi\\lib\\site-packages\\tensorflow\\python\\ops\\resource_variable_ops.py:435: colocate_with (from tensorflow.python.framework.ops) is deprecated and will be removed in a future version.\n",
      "Instructions for updating:\n",
      "Colocations handled automatically by placer.\n"
     ]
    }
   ],
   "source": [
    "from keras.layers import Input, Dense\n",
    "from keras.models import Model\n",
    "\n",
    "# this is the size of our encoded representations\n",
    "encoding_dim = 32  # 32 floats -> compression of factor 24.5, assuming the input is 784 floats\n",
    "\n",
    "# this is our input placeholder\n",
    "input_img = Input(shape=(784,))\n",
    "# \"encoded\" is the encoded representation of the input\n",
    "encoded = Dense(encoding_dim, activation='relu')(input_img)\n",
    "# \"decoded\" is the lossy reconstruction of the input\n",
    "decoded = Dense(784, activation='sigmoid')(encoded)\n",
    "\n",
    "# this model maps an input to its reconstruction\n",
    "autoencoder = Model(input_img, decoded)"
   ]
  },
  {
   "cell_type": "code",
   "execution_count": 2,
   "metadata": {
    "ExecuteTime": {
     "end_time": "2019-11-20T22:40:26.547352Z",
     "start_time": "2019-11-20T22:40:26.537356Z"
    }
   },
   "outputs": [],
   "source": [
    "encoder = Model(input_img, encoded)"
   ]
  },
  {
   "cell_type": "code",
   "execution_count": 3,
   "metadata": {
    "ExecuteTime": {
     "end_time": "2019-11-20T22:40:26.682538Z",
     "start_time": "2019-11-20T22:40:26.553348Z"
    }
   },
   "outputs": [],
   "source": [
    "# create a placeholder for an encoded (32-dimensional) input\n",
    "encoded_input = Input(shape=(encoding_dim,))\n",
    "# retrieve the last layer of the autoencoder model\n",
    "decoder_layer = autoencoder.layers[-1]\n",
    "# create the decoder model\n",
    "decoder = Model(encoded_input, decoder_layer(encoded_input))"
   ]
  },
  {
   "cell_type": "code",
   "execution_count": 4,
   "metadata": {
    "ExecuteTime": {
     "end_time": "2019-11-20T22:40:26.831515Z",
     "start_time": "2019-11-20T22:40:26.685512Z"
    }
   },
   "outputs": [],
   "source": [
    "autoencoder.compile(optimizer='adadelta', loss='binary_crossentropy')"
   ]
  },
  {
   "cell_type": "code",
   "execution_count": 5,
   "metadata": {
    "ExecuteTime": {
     "end_time": "2019-11-20T22:40:27.331467Z",
     "start_time": "2019-11-20T22:40:26.834492Z"
    }
   },
   "outputs": [],
   "source": [
    "from keras.datasets import mnist\n",
    "import numpy as np\n",
    "(x_train, _), (x_test, _) = mnist.load_data()"
   ]
  },
  {
   "cell_type": "code",
   "execution_count": 6,
   "metadata": {
    "ExecuteTime": {
     "end_time": "2019-11-20T22:40:27.661258Z",
     "start_time": "2019-11-20T22:40:27.334460Z"
    }
   },
   "outputs": [
    {
     "name": "stdout",
     "output_type": "stream",
     "text": [
      "(60000, 784)\n",
      "(10000, 784)\n"
     ]
    }
   ],
   "source": [
    "x_train = x_train.astype('float32') / 255.\n",
    "x_test = x_test.astype('float32') / 255.\n",
    "x_train = x_train.reshape((len(x_train), np.prod(x_train.shape[1:])))\n",
    "x_test = x_test.reshape((len(x_test), np.prod(x_test.shape[1:])))\n",
    "print(x_train.shape)\n",
    "print(x_test.shape)"
   ]
  },
  {
   "cell_type": "code",
   "execution_count": 7,
   "metadata": {
    "ExecuteTime": {
     "end_time": "2019-11-20T22:43:33.884159Z",
     "start_time": "2019-11-20T22:40:27.665256Z"
    },
    "scrolled": false
   },
   "outputs": [
    {
     "name": "stdout",
     "output_type": "stream",
     "text": [
      "WARNING:tensorflow:From C:\\Users\\Camila\\Anaconda3\\envs\\pdi\\lib\\site-packages\\tensorflow\\python\\ops\\math_ops.py:3066: to_int32 (from tensorflow.python.ops.math_ops) is deprecated and will be removed in a future version.\n",
      "Instructions for updating:\n",
      "Use tf.cast instead.\n",
      "Train on 60000 samples, validate on 10000 samples\n",
      "Epoch 1/50\n",
      "60000/60000 [==============================] - 3s 50us/step - loss: 0.3714 - val_loss: 0.2712\n",
      "Epoch 2/50\n",
      "60000/60000 [==============================] - 3s 43us/step - loss: 0.2633 - val_loss: 0.2515\n",
      "Epoch 3/50\n",
      "60000/60000 [==============================] - 2s 41us/step - loss: 0.2418 - val_loss: 0.2302\n",
      "Epoch 4/50\n",
      "60000/60000 [==============================] - 3s 42us/step - loss: 0.2235 - val_loss: 0.2140\n",
      "Epoch 5/50\n",
      "60000/60000 [==============================] - 2s 41us/step - loss: 0.2091 - val_loss: 0.2013\n",
      "Epoch 6/50\n",
      "60000/60000 [==============================] - 2s 41us/step - loss: 0.1975 - val_loss: 0.1907\n",
      "Epoch 7/50\n",
      "60000/60000 [==============================] - 2s 41us/step - loss: 0.1877 - val_loss: 0.1820\n",
      "Epoch 8/50\n",
      "60000/60000 [==============================] - 3s 44us/step - loss: 0.1798 - val_loss: 0.1749\n",
      "Epoch 9/50\n",
      "60000/60000 [==============================] - 3s 42us/step - loss: 0.1734 - val_loss: 0.1690\n",
      "Epoch 10/50\n",
      "60000/60000 [==============================] - 3s 42us/step - loss: 0.1680 - val_loss: 0.1641\n",
      "Epoch 11/50\n",
      "60000/60000 [==============================] - 3s 42us/step - loss: 0.1634 - val_loss: 0.1597\n",
      "Epoch 12/50\n",
      "60000/60000 [==============================] - 3s 42us/step - loss: 0.1593 - val_loss: 0.1559\n",
      "Epoch 13/50\n",
      "60000/60000 [==============================] - 3s 43us/step - loss: 0.1555 - val_loss: 0.1522\n",
      "Epoch 14/50\n",
      "60000/60000 [==============================] - 3s 44us/step - loss: 0.1520 - val_loss: 0.1487\n",
      "Epoch 15/50\n",
      "60000/60000 [==============================] - 3s 43us/step - loss: 0.1486 - val_loss: 0.1455\n",
      "Epoch 16/50\n",
      "60000/60000 [==============================] - 3s 44us/step - loss: 0.1455 - val_loss: 0.1424\n",
      "Epoch 17/50\n",
      "60000/60000 [==============================] - 3s 44us/step - loss: 0.1426 - val_loss: 0.1396\n",
      "Epoch 18/50\n",
      "60000/60000 [==============================] - 3s 43us/step - loss: 0.1399 - val_loss: 0.1371\n",
      "Epoch 19/50\n",
      "60000/60000 [==============================] - 3s 43us/step - loss: 0.1373 - val_loss: 0.1346\n",
      "Epoch 20/50\n",
      "60000/60000 [==============================] - 3s 44us/step - loss: 0.1349 - val_loss: 0.1322\n",
      "Epoch 21/50\n",
      "60000/60000 [==============================] - 3s 44us/step - loss: 0.1326 - val_loss: 0.1300\n",
      "Epoch 22/50\n",
      "60000/60000 [==============================] - 3s 44us/step - loss: 0.1305 - val_loss: 0.1280\n",
      "Epoch 23/50\n",
      "60000/60000 [==============================] - 3s 44us/step - loss: 0.1285 - val_loss: 0.1259\n",
      "Epoch 24/50\n",
      "60000/60000 [==============================] - 3s 46us/step - loss: 0.1265 - val_loss: 0.1240\n",
      "Epoch 25/50\n",
      "60000/60000 [==============================] - 3s 44us/step - loss: 0.1247 - val_loss: 0.1222\n",
      "Epoch 26/50\n",
      "60000/60000 [==============================] - 3s 45us/step - loss: 0.1229 - val_loss: 0.1205\n",
      "Epoch 27/50\n",
      "60000/60000 [==============================] - 3s 44us/step - loss: 0.1213 - val_loss: 0.1189\n",
      "Epoch 28/50\n",
      "60000/60000 [==============================] - 3s 44us/step - loss: 0.1197 - val_loss: 0.1174\n",
      "Epoch 29/50\n",
      "60000/60000 [==============================] - 3s 44us/step - loss: 0.1183 - val_loss: 0.1161\n",
      "Epoch 30/50\n",
      "60000/60000 [==============================] - 3s 44us/step - loss: 0.1169 - val_loss: 0.1148\n",
      "Epoch 31/50\n",
      "60000/60000 [==============================] - 3s 44us/step - loss: 0.1157 - val_loss: 0.1135\n",
      "Epoch 32/50\n",
      "60000/60000 [==============================] - 3s 44us/step - loss: 0.1145 - val_loss: 0.1124\n",
      "Epoch 33/50\n",
      "60000/60000 [==============================] - 3s 44us/step - loss: 0.1135 - val_loss: 0.1114\n",
      "Epoch 34/50\n",
      "60000/60000 [==============================] - 3s 44us/step - loss: 0.1125 - val_loss: 0.1104\n",
      "Epoch 35/50\n",
      "60000/60000 [==============================] - 3s 44us/step - loss: 0.1115 - val_loss: 0.1095\n",
      "Epoch 36/50\n",
      "60000/60000 [==============================] - 3s 44us/step - loss: 0.1107 - val_loss: 0.1087\n",
      "Epoch 37/50\n",
      "60000/60000 [==============================] - 3s 44us/step - loss: 0.1099 - val_loss: 0.1079\n",
      "Epoch 38/50\n",
      "60000/60000 [==============================] - 3s 44us/step - loss: 0.1092 - val_loss: 0.1072\n",
      "Epoch 39/50\n",
      "60000/60000 [==============================] - 3s 44us/step - loss: 0.1085 - val_loss: 0.1065\n",
      "Epoch 40/50\n",
      "60000/60000 [==============================] - 3s 44us/step - loss: 0.1078 - val_loss: 0.1059\n",
      "Epoch 41/50\n",
      "60000/60000 [==============================] - 3s 44us/step - loss: 0.1072 - val_loss: 0.1053\n",
      "Epoch 42/50\n",
      "60000/60000 [==============================] - 3s 44us/step - loss: 0.1067 - val_loss: 0.1048\n",
      "Epoch 43/50\n",
      "60000/60000 [==============================] - 3s 46us/step - loss: 0.1061 - val_loss: 0.1043\n",
      "Epoch 44/50\n",
      "60000/60000 [==============================] - 3s 44us/step - loss: 0.1056 - val_loss: 0.1038\n",
      "Epoch 45/50\n",
      "60000/60000 [==============================] - 3s 44us/step - loss: 0.1051 - val_loss: 0.1033\n",
      "Epoch 46/50\n",
      "60000/60000 [==============================] - 3s 44us/step - loss: 0.1047 - val_loss: 0.1029\n",
      "Epoch 47/50\n",
      "60000/60000 [==============================] - 3s 44us/step - loss: 0.1043 - val_loss: 0.1025\n",
      "Epoch 48/50\n",
      "60000/60000 [==============================] - 3s 44us/step - loss: 0.1039 - val_loss: 0.1021\n",
      "Epoch 49/50\n",
      "60000/60000 [==============================] - 3s 44us/step - loss: 0.1035 - val_loss: 0.1017\n",
      "Epoch 50/50\n",
      "60000/60000 [==============================] - 4s 60us/step - loss: 0.1031 - val_loss: 0.1014\n"
     ]
    },
    {
     "data": {
      "text/plain": [
       "<keras.callbacks.callbacks.History at 0x276365ab320>"
      ]
     },
     "execution_count": 7,
     "metadata": {},
     "output_type": "execute_result"
    }
   ],
   "source": [
    "autoencoder.fit(x_train, x_train,\n",
    "                epochs=50,\n",
    "                batch_size=256,\n",
    "                shuffle=True,\n",
    "                validation_data=(x_test, x_test))"
   ]
  },
  {
   "cell_type": "code",
   "execution_count": 8,
   "metadata": {
    "ExecuteTime": {
     "end_time": "2019-11-20T22:43:34.274623Z",
     "start_time": "2019-11-20T22:43:33.889156Z"
    }
   },
   "outputs": [],
   "source": [
    "# encode and decode some digits\n",
    "# note that we take them from the *test* set\n",
    "encoded_imgs = encoder.predict(x_test)\n",
    "decoded_imgs = decoder.predict(encoded_imgs)"
   ]
  },
  {
   "cell_type": "code",
   "execution_count": 9,
   "metadata": {
    "ExecuteTime": {
     "end_time": "2019-11-20T22:43:35.133173Z",
     "start_time": "2019-11-20T22:43:34.277619Z"
    }
   },
   "outputs": [
    {
     "data": {
      "text/plain": [
       "<Figure size 2000x400 with 20 Axes>"
      ]
     },
     "metadata": {},
     "output_type": "display_data"
    }
   ],
   "source": [
    "import matplotlib.pyplot as plt\n",
    "\n",
    "n = 10  # how many digits we will display\n",
    "plt.figure(figsize=(20, 4))\n",
    "for i in range(n):\n",
    "    # display original\n",
    "    ax = plt.subplot(2, n, i + 1)\n",
    "    plt.imshow(x_test[i].reshape(28, 28))\n",
    "    plt.gray()\n",
    "    ax.get_xaxis().set_visible(False)\n",
    "    ax.get_yaxis().set_visible(False)\n",
    "\n",
    "    # display reconstruction\n",
    "    ax = plt.subplot(2, n, i + 1 + n)\n",
    "    plt.imshow(decoded_imgs[i].reshape(28, 28))\n",
    "    plt.gray()\n",
    "    ax.get_xaxis().set_visible(False)\n",
    "    ax.get_yaxis().set_visible(False)\n",
    "  \n",
    "plt.plot()\n",
    "plt.show()  "
   ]
  },
  {
   "cell_type": "markdown",
   "metadata": {},
   "source": [
    "### Adding a sparsity constraint on the encoded representations\n"
   ]
  },
  {
   "cell_type": "code",
   "execution_count": 10,
   "metadata": {
    "ExecuteTime": {
     "end_time": "2019-11-20T22:43:35.210142Z",
     "start_time": "2019-11-20T22:43:35.136177Z"
    }
   },
   "outputs": [],
   "source": [
    "from keras import regularizers\n",
    "\n",
    "encoding_dim = 32\n",
    "\n",
    "input_img = Input(shape=(784,))\n",
    "# add a Dense layer with a L1 activity regularizer\n",
    "encoded = Dense(encoding_dim, activation='relu',\n",
    "                activity_regularizer=regularizers.l1(10e-5))(input_img)\n",
    "decoded = Dense(784, activation='sigmoid')(encoded)\n",
    "\n",
    "autoencoder = Model(input_img, decoded)"
   ]
  },
  {
   "cell_type": "code",
   "execution_count": null,
   "metadata": {},
   "outputs": [],
   "source": []
  },
  {
   "cell_type": "code",
   "execution_count": null,
   "metadata": {},
   "outputs": [],
   "source": []
  },
  {
   "cell_type": "code",
   "execution_count": null,
   "metadata": {},
   "outputs": [],
   "source": []
  },
  {
   "cell_type": "code",
   "execution_count": null,
   "metadata": {},
   "outputs": [],
   "source": []
  }
 ],
 "metadata": {
  "kernelspec": {
   "display_name": "Python [conda env:pdi] *",
   "language": "python",
   "name": "conda-env-pdi-py"
  },
  "language_info": {
   "codemirror_mode": {
    "name": "ipython",
    "version": 3
   },
   "file_extension": ".py",
   "mimetype": "text/x-python",
   "name": "python",
   "nbconvert_exporter": "python",
   "pygments_lexer": "ipython3",
   "version": "3.6.8"
  }
 },
 "nbformat": 4,
 "nbformat_minor": 2
}
