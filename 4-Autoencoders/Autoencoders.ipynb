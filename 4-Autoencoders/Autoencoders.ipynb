{
 "cells": [
  {
   "cell_type": "code",
   "execution_count": 1,
   "metadata": {},
   "outputs": [],
   "source": [
    "import numpy as np\n",
    "import matplotlib.pyplot as plt\n",
    "from sklearn import datasets\n",
    "from neupy import algorithms, layers, utils"
   ]
  },
  {
   "cell_type": "code",
   "execution_count": 2,
   "metadata": {},
   "outputs": [],
   "source": [
    "def load_data():\n",
    "    X, _ = datasets.fetch_openml('mnist_784', version=1, return_X_y=True)\n",
    "    X = (X / 255.).astype(np.float32)\n",
    "\n",
    "    np.random.shuffle(X)\n",
    "    x_train, x_test = X[:60000], X[60000:]\n",
    "\n",
    "    return x_train, x_test"
   ]
  },
  {
   "cell_type": "code",
   "execution_count": 3,
   "metadata": {},
   "outputs": [],
   "source": [
    "def visualize_reconstructions(autoencoder, x_test):\n",
    "    n_samples = 4\n",
    "    image_vectors = x_test[:n_samples, :]\n",
    "    images = image_vectors * 255.\n",
    "    predicted_images = autoencoder.predict(image_vectors)\n",
    "    predicted_images = predicted_images * 255.\n",
    "\n",
    "    # Compare real and reconstructed images\n",
    "    fig, axes = plt.subplots(4, 2, figsize=(12, 8))\n",
    "    iterator = zip(axes, images, predicted_images)\n",
    "\n",
    "    for (left_ax, right_ax), real_image, predicted_image in iterator:\n",
    "        real_image = real_image.reshape((28, 28))\n",
    "        predicted_image = predicted_image.reshape((28, 28))\n",
    "\n",
    "        left_ax.imshow(real_image, cmap=plt.cm.binary)\n",
    "        right_ax.imshow(predicted_image, cmap=plt.cm.binary)\n",
    "    plt.plot()\n",
    "    plt.show()"
   ]
  },
  {
   "cell_type": "code",
   "execution_count": 4,
   "metadata": {},
   "outputs": [
    {
     "name": "stdout",
     "output_type": "stream",
     "text": [
      "\n",
      "Main information\n",
      "\n",
      "[ALGORITHM] Momentum\n",
      "\n",
      "[OPTION] batch_size = 128\n",
      "[OPTION] loss = rmse\n",
      "[OPTION] momentum = 0.9\n",
      "[OPTION] nesterov = True\n",
      "[OPTION] regularizer = None\n",
      "[OPTION] show_epoch = 1\n",
      "[OPTION] shuffle_data = False\n",
      "[OPTION] signals = None\n",
      "[OPTION] step = 0.1\n",
      "[OPTION] target = Tensor(\"placeholder/target/sigmoid-2:0\", shape=(?, 784), dtype=float32)\n",
      "[OPTION] verbose = True\n",
      "\n",
      "[TENSORFLOW] Initializing Tensorflow variables and functions.\n",
      "WARNING:tensorflow:From C:\\Users\\Camila\\Anaconda3\\envs\\pdi\\lib\\site-packages\\tensorflow\\python\\framework\\op_def_library.py:263: colocate_with (from tensorflow.python.framework.ops) is deprecated and will be removed in a future version.\n",
      "Instructions for updating:\n",
      "Colocations handled automatically by placer.\n",
      "[TENSORFLOW] Initialization finished successfully. It took 0.32 seconds\n"
     ]
    }
   ],
   "source": [
    "autoencoder = algorithms.Momentum(\n",
    "    [\n",
    "        layers.Input(784),\n",
    "        layers.GaussianNoise(mean=0.5, std=0.1),\n",
    "        layers.Sigmoid(100),\n",
    "        layers.Sigmoid(784),\n",
    "    ],\n",
    "    step=0.1,\n",
    "    verbose=True,\n",
    "    momentum=0.9,\n",
    "    nesterov=True,\n",
    "    loss='rmse',\n",
    ")"
   ]
  },
  {
   "cell_type": "code",
   "execution_count": 5,
   "metadata": {
    "scrolled": false
   },
   "outputs": [
    {
     "name": "stdout",
     "output_type": "stream",
     "text": [
      "Preparing data...\n"
     ]
    },
    {
     "name": "stderr",
     "output_type": "stream",
     "text": [
      "Time: 0:00:00 |  6%|#                            | ETA:  0:00:02 | loss:   0.47"
     ]
    },
    {
     "name": "stdout",
     "output_type": "stream",
     "text": [
      "Training autoencoder...\n"
     ]
    },
    {
     "name": "stderr",
     "output_type": "stream",
     "text": [
      "                                                                               \r"
     ]
    },
    {
     "name": "stdout",
     "output_type": "stream",
     "text": [
      "#1 : [1 sec] train: 0.257866, valid: 0.261907\n"
     ]
    },
    {
     "name": "stderr",
     "output_type": "stream",
     "text": [
      "Time: 0:00:00 | 14%|####                         | ETA:  0:00:01 | loss:  0.258"
     ]
    },
    {
     "name": "stdout",
     "output_type": "stream",
     "text": [
      "#2 : [1 sec] train: 0.253546, valid: 0.260088\n"
     ]
    },
    {
     "name": "stderr",
     "output_type": "stream",
     "text": [
      "Time: 0:00:00 | 10%|##                           | ETA:  0:00:01 | loss:  0.252"
     ]
    },
    {
     "name": "stdout",
     "output_type": "stream",
     "text": [
      "#3 : [1 sec] train: 0.250902, valid: 0.258500\n"
     ]
    },
    {
     "name": "stderr",
     "output_type": "stream",
     "text": [
      "Time: 0:00:00 | 12%|###                          | ETA:  0:00:01 | loss:  0.248"
     ]
    },
    {
     "name": "stdout",
     "output_type": "stream",
     "text": [
      "#4 : [1 sec] train: 0.247278, valid: 0.255581\n"
     ]
    },
    {
     "name": "stderr",
     "output_type": "stream",
     "text": [
      "Time: 0:00:00 | 11%|###                          | ETA:  0:00:01 | loss:  0.251"
     ]
    },
    {
     "name": "stdout",
     "output_type": "stream",
     "text": [
      "#5 : [1 sec] train: 0.242477, valid: 0.252010\n"
     ]
    },
    {
     "name": "stderr",
     "output_type": "stream",
     "text": [
      "Time: 0:00:00 | 11%|###                          | ETA:  0:00:01 | loss:  0.246"
     ]
    },
    {
     "name": "stdout",
     "output_type": "stream",
     "text": [
      "#6 : [1 sec] train: 0.237043, valid: 0.248788\n"
     ]
    },
    {
     "name": "stderr",
     "output_type": "stream",
     "text": [
      "Time: 0:00:00 | 11%|###                          | ETA:  0:00:01 | loss:  0.241"
     ]
    },
    {
     "name": "stdout",
     "output_type": "stream",
     "text": [
      "#7 : [1 sec] train: 0.231594, valid: 0.245841\n"
     ]
    },
    {
     "name": "stderr",
     "output_type": "stream",
     "text": [
      "Time: 0:00:00 | 12%|###                          | ETA:  0:00:01 | loss:  0.229"
     ]
    },
    {
     "name": "stdout",
     "output_type": "stream",
     "text": [
      "#8 : [1 sec] train: 0.226501, valid: 0.243224\n"
     ]
    },
    {
     "name": "stderr",
     "output_type": "stream",
     "text": [
      "Time: 0:00:00 | 14%|####                         | ETA:  0:00:01 | loss:  0.227"
     ]
    },
    {
     "name": "stdout",
     "output_type": "stream",
     "text": [
      "#9 : [1 sec] train: 0.221855, valid: 0.240732\n"
     ]
    },
    {
     "name": "stderr",
     "output_type": "stream",
     "text": [
      "Time: 0:00:00 | 14%|####                         | ETA:  0:00:01 | loss:  0.224"
     ]
    },
    {
     "name": "stdout",
     "output_type": "stream",
     "text": [
      "#10 : [1 sec] train: 0.217630, valid: 0.238363\n"
     ]
    },
    {
     "name": "stderr",
     "output_type": "stream",
     "text": [
      "                                                                               \r"
     ]
    },
    {
     "name": "stdout",
     "output_type": "stream",
     "text": [
      "#11 : [1 sec] train: 0.213769, valid: 0.236065\n"
     ]
    },
    {
     "name": "stderr",
     "output_type": "stream",
     "text": [
      "Time: 0:00:00 | 14%|####                         | ETA:  0:00:01 | loss:  0.217"
     ]
    },
    {
     "name": "stdout",
     "output_type": "stream",
     "text": [
      "#12 : [1 sec] train: 0.210211, valid: 0.233932\n"
     ]
    },
    {
     "name": "stderr",
     "output_type": "stream",
     "text": [
      "Time: 0:00:00 | 14%|####                         | ETA:  0:00:01 | loss:  0.214"
     ]
    },
    {
     "name": "stdout",
     "output_type": "stream",
     "text": [
      "#13 : [1 sec] train: 0.206898, valid: 0.231884\n"
     ]
    },
    {
     "name": "stderr",
     "output_type": "stream",
     "text": [
      "Time: 0:00:00 | 12%|###                          | ETA:  0:00:01 | loss:  0.209"
     ]
    },
    {
     "name": "stdout",
     "output_type": "stream",
     "text": [
      "#14 : [1 sec] train: 0.203800, valid: 0.229953\n"
     ]
    },
    {
     "name": "stderr",
     "output_type": "stream",
     "text": [
      "                                                                               \r"
     ]
    },
    {
     "name": "stdout",
     "output_type": "stream",
     "text": [
      "#15 : [1 sec] train: 0.200908, valid: 0.228219\n"
     ]
    },
    {
     "name": "stderr",
     "output_type": "stream",
     "text": [
      "Time: 0:00:00 | 10%|##                           | ETA:  0:00:01 | loss:  0.203"
     ]
    },
    {
     "name": "stdout",
     "output_type": "stream",
     "text": [
      "#16 : [1 sec] train: 0.198197, valid: 0.226666\n"
     ]
    },
    {
     "name": "stderr",
     "output_type": "stream",
     "text": [
      "Time: 0:00:00 | 10%|##                           | ETA:  0:00:01 | loss:    0.2"
     ]
    },
    {
     "name": "stdout",
     "output_type": "stream",
     "text": [
      "#17 : [1 sec] train: 0.195639, valid: 0.225312\n"
     ]
    },
    {
     "name": "stderr",
     "output_type": "stream",
     "text": [
      "Time: 0:00:00 | 14%|####                         | ETA:  0:00:01 | loss:  0.201"
     ]
    },
    {
     "name": "stdout",
     "output_type": "stream",
     "text": [
      "#18 : [1 sec] train: 0.193216, valid: 0.224084\n"
     ]
    },
    {
     "name": "stderr",
     "output_type": "stream",
     "text": [
      "Time: 0:00:00 | 10%|##                           | ETA:  0:00:01 | loss:  0.196"
     ]
    },
    {
     "name": "stdout",
     "output_type": "stream",
     "text": [
      "#19 : [1 sec] train: 0.190912, valid: 0.222984\n"
     ]
    },
    {
     "name": "stderr",
     "output_type": "stream",
     "text": [
      "Time: 0:00:00 |  8%|##                           | ETA:  0:00:01 | loss:  0.196"
     ]
    },
    {
     "name": "stdout",
     "output_type": "stream",
     "text": [
      "#20 : [1 sec] train: 0.188714, valid: 0.222014\n"
     ]
    },
    {
     "name": "stderr",
     "output_type": "stream",
     "text": [
      "Time: 0:00:00 | 14%|####                         | ETA:  0:00:01 | loss:  0.194"
     ]
    },
    {
     "name": "stdout",
     "output_type": "stream",
     "text": [
      "#21 : [1 sec] train: 0.186610, valid: 0.221155\n"
     ]
    },
    {
     "name": "stderr",
     "output_type": "stream",
     "text": [
      "                                                                               \r"
     ]
    },
    {
     "name": "stdout",
     "output_type": "stream",
     "text": [
      "#22 : [1 sec] train: 0.184591, valid: 0.220411\n"
     ]
    },
    {
     "name": "stderr",
     "output_type": "stream",
     "text": [
      "Time: 0:00:00 | 12%|###                          | ETA:  0:00:01 | loss:   0.19"
     ]
    },
    {
     "name": "stdout",
     "output_type": "stream",
     "text": [
      "#23 : [1 sec] train: 0.182650, valid: 0.219676\n"
     ]
    },
    {
     "name": "stderr",
     "output_type": "stream",
     "text": [
      "Time: 0:00:00 | 11%|###                          | ETA:  0:00:01 | loss:  0.194"
     ]
    },
    {
     "name": "stdout",
     "output_type": "stream",
     "text": [
      "#24 : [1 sec] train: 0.180784, valid: 0.219140\n"
     ]
    },
    {
     "name": "stderr",
     "output_type": "stream",
     "text": [
      "Time: 0:00:00 | 14%|####                         | ETA:  0:00:01 | loss:  0.187"
     ]
    },
    {
     "name": "stdout",
     "output_type": "stream",
     "text": [
      "#25 : [1 sec] train: 0.178991, valid: 0.218580\n"
     ]
    },
    {
     "name": "stderr",
     "output_type": "stream",
     "text": [
      "                                                                               \r"
     ]
    },
    {
     "name": "stdout",
     "output_type": "stream",
     "text": [
      "#26 : [1 sec] train: 0.177267, valid: 0.218046\n"
     ]
    },
    {
     "name": "stderr",
     "output_type": "stream",
     "text": [
      "Time: 0:00:00 | 11%|###                          | ETA:  0:00:01 | loss:  0.189"
     ]
    },
    {
     "name": "stdout",
     "output_type": "stream",
     "text": [
      "#27 : [1 sec] train: 0.175607, valid: 0.217510\n"
     ]
    },
    {
     "name": "stderr",
     "output_type": "stream",
     "text": [
      "                                                                               \r"
     ]
    },
    {
     "name": "stdout",
     "output_type": "stream",
     "text": [
      "#28 : [1 sec] train: 0.174006, valid: 0.217040\n"
     ]
    },
    {
     "name": "stderr",
     "output_type": "stream",
     "text": [
      "Time: 0:00:00 |  8%|##                           | ETA:  0:00:01 | loss:   0.18"
     ]
    },
    {
     "name": "stdout",
     "output_type": "stream",
     "text": [
      "#29 : [1 sec] train: 0.172456, valid: 0.216520\n"
     ]
    },
    {
     "name": "stderr",
     "output_type": "stream",
     "text": [
      "Time: 0:00:00 | 10%|##                           | ETA:  0:00:01 | loss:  0.176"
     ]
    },
    {
     "name": "stdout",
     "output_type": "stream",
     "text": [
      "#30 : [1 sec] train: 0.170956, valid: 0.216144\n"
     ]
    },
    {
     "name": "stderr",
     "output_type": "stream",
     "text": [
      "Time: 0:00:00 | 12%|###                          | ETA:  0:00:01 | loss:  0.177"
     ]
    },
    {
     "name": "stdout",
     "output_type": "stream",
     "text": [
      "#31 : [1 sec] train: 0.169500, valid: 0.215755\n"
     ]
    },
    {
     "name": "stderr",
     "output_type": "stream",
     "text": [
      "Time: 0:00:00 | 11%|###                          | ETA:  0:00:01 | loss:  0.181"
     ]
    },
    {
     "name": "stdout",
     "output_type": "stream",
     "text": [
      "#32 : [1 sec] train: 0.168086, valid: 0.215382\n"
     ]
    },
    {
     "name": "stderr",
     "output_type": "stream",
     "text": [
      "Time: 0:00:00 | 11%|###                          | ETA:  0:00:01 | loss:   0.18"
     ]
    },
    {
     "name": "stdout",
     "output_type": "stream",
     "text": [
      "#33 : [1 sec] train: 0.166712, valid: 0.215048\n"
     ]
    },
    {
     "name": "stderr",
     "output_type": "stream",
     "text": [
      "Time: 0:00:00 | 11%|###                          | ETA:  0:00:01 | loss:  0.178"
     ]
    },
    {
     "name": "stdout",
     "output_type": "stream",
     "text": [
      "#34 : [1 sec] train: 0.165375, valid: 0.214742\n"
     ]
    },
    {
     "name": "stderr",
     "output_type": "stream",
     "text": [
      "Time: 0:00:00 | 12%|###                          | ETA:  0:00:01 | loss:  0.172"
     ]
    },
    {
     "name": "stdout",
     "output_type": "stream",
     "text": [
      "#35 : [1 sec] train: 0.164073, valid: 0.214426\n"
     ]
    },
    {
     "name": "stderr",
     "output_type": "stream",
     "text": [
      "Time: 0:00:00 | 12%|###                          | ETA:  0:00:01 | loss:   0.17"
     ]
    },
    {
     "name": "stdout",
     "output_type": "stream",
     "text": [
      "#36 : [1 sec] train: 0.162804, valid: 0.214241\n"
     ]
    },
    {
     "name": "stderr",
     "output_type": "stream",
     "text": [
      "Time: 0:00:00 | 14%|####                         | ETA:  0:00:01 | loss:   0.17"
     ]
    },
    {
     "name": "stdout",
     "output_type": "stream",
     "text": [
      "#37 : [1 sec] train: 0.161567, valid: 0.214031\n"
     ]
    },
    {
     "name": "stderr",
     "output_type": "stream",
     "text": [
      "                                                                               \r"
     ]
    },
    {
     "name": "stdout",
     "output_type": "stream",
     "text": [
      "#38 : [1 sec] train: 0.160359, valid: 0.213825\n"
     ]
    },
    {
     "name": "stderr",
     "output_type": "stream",
     "text": [
      "Time: 0:00:00 |  8%|##                           | ETA:  0:00:01 | loss:  0.167"
     ]
    },
    {
     "name": "stdout",
     "output_type": "stream",
     "text": [
      "#39 : [1 sec] train: 0.159179, valid: 0.213646\n"
     ]
    },
    {
     "name": "stderr",
     "output_type": "stream",
     "text": [
      "Time: 0:00:01 |100%|#############################| Time: 0:00:01 | loss:  0.158\r"
     ]
    },
    {
     "name": "stdout",
     "output_type": "stream",
     "text": [
      "#40 : [1 sec] train: 0.158026, valid: 0.213525\n"
     ]
    },
    {
     "name": "stderr",
     "output_type": "stream",
     "text": [
      "\r",
      "                                                                               \r"
     ]
    }
   ],
   "source": [
    "print(\"Preparing data...\")\n",
    "x_train, x_test = load_data()\n",
    "\n",
    "print(\"Training autoencoder...\")\n",
    "autoencoder.train(x_train, x_train, x_test, x_test, epochs=40)"
   ]
  },
  {
   "cell_type": "code",
   "execution_count": 6,
   "metadata": {
    "scrolled": false
   },
   "outputs": [
    {
     "name": "stderr",
     "output_type": "stream",
     "text": [
      "\r",
      "                                                                               \r"
     ]
    },
    {
     "data": {
      "image/png": "[encoded data removed]",
      "text/plain": [
       "<Figure size 864x576 with 8 Axes>"
      ]
     },
     "metadata": {
      "needs_background": "light"
     },
     "output_type": "display_data"
    }
   ],
   "source": [
    "visualize_reconstructions(autoencoder, x_test)"
   ]
  },
  {
   "cell_type": "markdown",
   "metadata": {},
   "source": [
    "https://github.com/itdxer/neupy/blob/master/examples/autoencoder/denoising_autoencoder.py"
   ]
  }
 ],
 "metadata": {
  "kernelspec": {
   "display_name": "Python (pdi)",
   "language": "python",
   "name": "pdi"
  },
  "language_info": {
   "codemirror_mode": {
    "name": "ipython",
    "version": 3
   },
   "file_extension": ".py",
   "mimetype": "text/x-python",
   "name": "python",
   "nbconvert_exporter": "python",
   "pygments_lexer": "ipython3",
   "version": "3.6.8"
  }
 },
 "nbformat": 4,
 "nbformat_minor": 2
}
