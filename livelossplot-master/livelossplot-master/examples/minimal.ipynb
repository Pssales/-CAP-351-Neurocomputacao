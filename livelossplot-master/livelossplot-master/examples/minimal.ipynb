{
 "cells": [
  {
   "cell_type": "markdown",
   "metadata": {
    "toc": true
   },
   "source": [
    "<h1>Table of Contents<span class=\"tocSkip\"></span></h1>\n",
    "<div class=\"toc\"><ul class=\"toc-item\"></ul></div>"
   ]
  },
  {
   "cell_type": "code",
   "execution_count": 1,
   "metadata": {
    "ExecuteTime": {
     "end_time": "2019-03-02T08:24:59.816268Z",
     "start_time": "2019-03-02T08:24:59.492126Z"
    }
   },
   "outputs": [],
   "source": [
    "%matplotlib inline\n",
    "\n",
    "from time import sleep\n",
    "import numpy as np\n",
    "\n",
    "from livelossplot import PlotLosses"
   ]
  },
  {
   "cell_type": "code",
   "execution_count": null,
   "metadata": {
    "ExecuteTime": {
     "end_time": "2019-03-02T08:25:50.230241Z",
     "start_time": "2019-03-02T08:25:37.675669Z"
    }
   },
   "outputs": [],
   "source": [
    "liveplot = PlotLosses(skip_first=0)\n",
    "\n",
    "for i in range(10):\n",
    "    liveplot.update({\n",
    "        'accuracy': 1 - np.random.rand() / (i + 2.),\n",
    "        'val_accuracy': 1 - np.random.rand() / (i + 0.5),\n",
    "        'mse': 1. / (i + 2.),\n",
    "        'val_mse': 1. / (i + 0.5)\n",
    "    })\n",
    "    liveplot.draw()\n",
    "    sleep(1.)"
   ]
  },
  {
   "cell_type": "code",
   "execution_count": null,
   "metadata": {},
   "outputs": [],
   "source": []
  }
 ],
 "metadata": {
  "anaconda-cloud": {},
  "kernelspec": {
   "display_name": "Python 3",
   "language": "python",
   "name": "python3"
  },
  "language_info": {
   "codemirror_mode": {
    "name": "ipython",
    "version": 3
   },
   "file_extension": ".py",
   "mimetype": "text/x-python",
   "name": "python",
   "nbconvert_exporter": "python",
   "pygments_lexer": "ipython3",
   "version": "3.6.7"
  },
  "toc": {
   "base_numbering": 1,
   "nav_menu": {},
   "number_sections": true,
   "sideBar": true,
   "skip_h1_title": false,
   "title_cell": "Table of Contents",
   "title_sidebar": "Contents",
   "toc_cell": true,
   "toc_position": {},
   "toc_section_display": true,
   "toc_window_display": false
  }
 },
 "nbformat": 4,
 "nbformat_minor": 1
}
