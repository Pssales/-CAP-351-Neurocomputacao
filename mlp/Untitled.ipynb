{
 "cells": [
  {
   "cell_type": "markdown",
   "metadata": {},
   "source": [
    "https://keras.io/getting-started/sequential-model-guide/#mlp-for-binary-classification"
   ]
  },
  {
   "cell_type": "code",
   "execution_count": 2,
   "metadata": {},
   "outputs": [
    {
     "data": {
      "text/plain": [
       "array([[0.18511177, 0.41871849, 0.76050753, ..., 0.42972637, 0.80513576,\n",
       "        0.67786266],\n",
       "       [0.71864001, 0.11417009, 0.25829976, ..., 0.03174759, 0.56236401,\n",
       "        0.03676687],\n",
       "       [0.10193394, 0.80696939, 0.81673699, ..., 0.73121895, 0.46791908,\n",
       "        0.08598085],\n",
       "       ...,\n",
       "       [0.02902203, 0.17116593, 0.69813034, ..., 0.78332076, 0.11422365,\n",
       "        0.27451117],\n",
       "       [0.42759287, 0.72398839, 0.64854808, ..., 0.26265648, 0.6358163 ,\n",
       "        0.50380766],\n",
       "       [0.88286037, 0.4629071 , 0.92423839, ..., 0.75528904, 0.09760668,\n",
       "        0.1309159 ]])"
      ]
     },
     "execution_count": 2,
     "metadata": {},
     "output_type": "execute_result"
    }
   ],
   "source": [
    "import numpy as np\n",
    "from keras.models import Sequential\n",
    "from keras.layers import Dense, Dropout\n",
    "\n",
    "# Generate dummy data\n",
    "x_train = np.random.random((1000, 20))\n",
    "x_train"
   ]
  },
  {
   "cell_type": "code",
   "execution_count": 1,
   "metadata": {},
   "outputs": [
    {
     "name": "stderr",
     "output_type": "stream",
     "text": [
      "Using TensorFlow backend.\n"
     ]
    },
    {
     "name": "stdout",
     "output_type": "stream",
     "text": [
      "WARNING:tensorflow:From C:\\Users\\Camila\\Anaconda3\\envs\\pdi\\lib\\site-packages\\tensorflow\\python\\ops\\resource_variable_ops.py:435: colocate_with (from tensorflow.python.framework.ops) is deprecated and will be removed in a future version.\n",
      "Instructions for updating:\n",
      "Colocations handled automatically by placer.\n",
      "WARNING:tensorflow:From C:\\Users\\Camila\\Anaconda3\\envs\\pdi\\lib\\site-packages\\tensorflow\\python\\ops\\math_ops.py:3066: to_int32 (from tensorflow.python.ops.math_ops) is deprecated and will be removed in a future version.\n",
      "Instructions for updating:\n",
      "Use tf.cast instead.\n",
      "Epoch 1/20\n",
      "1000/1000 [==============================] - 0s 244us/step - loss: 0.7326 - accuracy: 0.5020\n",
      "Epoch 2/20\n",
      "1000/1000 [==============================] - 0s 18us/step - loss: 0.7169 - accuracy: 0.5220\n",
      "Epoch 3/20\n",
      "1000/1000 [==============================] - 0s 19us/step - loss: 0.7103 - accuracy: 0.4980\n",
      "Epoch 4/20\n",
      "1000/1000 [==============================] - 0s 19us/step - loss: 0.6984 - accuracy: 0.5310\n",
      "Epoch 5/20\n",
      "1000/1000 [==============================] - 0s 20us/step - loss: 0.7151 - accuracy: 0.4940\n",
      "Epoch 6/20\n",
      "1000/1000 [==============================] - 0s 18us/step - loss: 0.7039 - accuracy: 0.5130\n",
      "Epoch 7/20\n",
      "1000/1000 [==============================] - 0s 17us/step - loss: 0.7048 - accuracy: 0.5010\n",
      "Epoch 8/20\n",
      "1000/1000 [==============================] - 0s 16us/step - loss: 0.7005 - accuracy: 0.4850\n",
      "Epoch 9/20\n",
      "1000/1000 [==============================] - 0s 17us/step - loss: 0.7057 - accuracy: 0.4800\n",
      "Epoch 10/20\n",
      "1000/1000 [==============================] - 0s 21us/step - loss: 0.6994 - accuracy: 0.5130\n",
      "Epoch 11/20\n",
      "1000/1000 [==============================] - 0s 18us/step - loss: 0.6980 - accuracy: 0.5070\n",
      "Epoch 12/20\n",
      "1000/1000 [==============================] - 0s 17us/step - loss: 0.6975 - accuracy: 0.5250\n",
      "Epoch 13/20\n",
      "1000/1000 [==============================] - 0s 18us/step - loss: 0.6982 - accuracy: 0.5120\n",
      "Epoch 14/20\n",
      "1000/1000 [==============================] - 0s 15us/step - loss: 0.6918 - accuracy: 0.5290\n",
      "Epoch 15/20\n",
      "1000/1000 [==============================] - 0s 16us/step - loss: 0.6971 - accuracy: 0.5080\n",
      "Epoch 16/20\n",
      "1000/1000 [==============================] - 0s 14us/step - loss: 0.6977 - accuracy: 0.4980\n",
      "Epoch 17/20\n",
      "1000/1000 [==============================] - 0s 20us/step - loss: 0.6929 - accuracy: 0.5130\n",
      "Epoch 18/20\n",
      "1000/1000 [==============================] - 0s 17us/step - loss: 0.6951 - accuracy: 0.5100\n",
      "Epoch 19/20\n",
      "1000/1000 [==============================] - 0s 16us/step - loss: 0.6888 - accuracy: 0.5330\n",
      "Epoch 20/20\n",
      "1000/1000 [==============================] - 0s 20us/step - loss: 0.6966 - accuracy: 0.5130\n",
      "100/100 [==============================] - 0s 997us/step\n"
     ]
    }
   ],
   "source": [
    "\n",
    "\n",
    "y_train = np.random.randint(2, size=(1000, 1))\n",
    "x_test = np.random.random((100, 20))\n",
    "y_test = np.random.randint(2, size=(100, 1))\n",
    "\n",
    "model = Sequential()\n",
    "model.add(Dense(64, input_dim=20, activation='relu'))\n",
    "model.add(Dropout(0.5))\n",
    "model.add(Dense(64, activation='relu'))\n",
    "model.add(Dropout(0.5))\n",
    "model.add(Dense(1, activation='sigmoid'))\n",
    "\n",
    "model.compile(loss='binary_crossentropy',\n",
    "              optimizer='rmsprop',\n",
    "              metrics=['accuracy'])\n",
    "\n",
    "model.fit(x_train, y_train,\n",
    "          epochs=20,\n",
    "          batch_size=128)\n",
    "score = model.evaluate(x_test, y_test, batch_size=128)"
   ]
  }
 ],
 "metadata": {
  "kernelspec": {
   "display_name": "Python [conda env:pdi] *",
   "language": "python",
   "name": "conda-env-pdi-py"
  },
  "language_info": {
   "codemirror_mode": {
    "name": "ipython",
    "version": 3
   },
   "file_extension": ".py",
   "mimetype": "text/x-python",
   "name": "python",
   "nbconvert_exporter": "python",
   "pygments_lexer": "ipython3",
   "version": "3.6.8"
  }
 },
 "nbformat": 4,
 "nbformat_minor": 2
}
