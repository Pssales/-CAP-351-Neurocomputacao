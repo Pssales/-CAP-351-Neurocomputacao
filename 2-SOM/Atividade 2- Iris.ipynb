{
 "cells": [
  {
   "cell_type": "markdown",
   "metadata": {},
   "source": [
    "# <span style=\"color:#336699\">CAP-351 - Neurocomputação\n",
    "<hr style=\"border:1px solid #0077b9;\">\n",
    "\n",
    "Professor:\n",
    "- Mascos G. Quiles\n",
    "\n",
    "Discente:\n",
    "- Camila P. Sales"
   ]
  },
  {
   "cell_type": "markdown",
   "metadata": {},
   "source": [
    "## Atividade\n",
    "\n",
    "- Realizar experimentos com pelo menos 3 datasets (usar o Iris para debug). Variar a vizinhança e taxa de aprendizagem\n",
    "\n",
    "Apresentar, pelo menos, os seguintes mapas:\n",
    "\n",
    "- U-Matrix\n",
    "\n",
    "- Hit map e Heat maps\n",
    "\n",
    "- Erro de quantização e topográfico\n"
   ]
  },
  {
   "cell_type": "code",
   "execution_count": 1,
   "metadata": {},
   "outputs": [],
   "source": [
    "import numpy as np\n",
    "from sklearn import datasets\n",
    "import matplotlib.pyplot as plt\n",
    "from neupy import algorithms, utils\n"
   ]
  },
  {
   "cell_type": "code",
   "execution_count": 2,
   "metadata": {},
   "outputs": [
    {
     "name": "stdout",
     "output_type": "stream",
     "text": [
      "\n",
      "Main information\n",
      "\n",
      "[ALGORITHM] SOFM\n",
      "\r\n",
      "[OPTION] distance = ['euclid', 'neg_euclid_distance']\n",
      "[OPTION] features_grid = None\n",
      "[OPTION] grid_type = ['rectangle', 'find_neighbours_on_rect_grid', 'find_step_scaler_on_rect_grid']\n",
      "[OPTION] learning_radius = 0\n",
      "[OPTION] n_inputs = 2\n",
      "[OPTION] n_outputs = 20\n",
      "[OPTION] reduce_radius_after = 100\n",
      "[OPTION] reduce_std_after = 100\n",
      "[OPTION] reduce_step_after = 100\n",
      "[OPTION] show_epoch = 1\n",
      "[OPTION] shuffle_data = True\n",
      "[OPTION] signals = None\n",
      "[OPTION] std = 1\n",
      "[OPTION] step = 0.25\n",
      "[OPTION] verbose = True\n",
      "[OPTION] weight = sample_data\n",
      "\r\n",
      "#1 : [52 ms] train: 0.111085\n",
      "#2 : [34 ms] train: 0.094342\n",
      "#3 : [32 ms] train: 0.089077\n",
      "#4 : [34 ms] train: 0.090085\n"
     ]
    },
    {
     "name": "stderr",
     "output_type": "stream",
     "text": [
      "\r",
      "                                                                               \r",
      "\r",
      "                                                                               \r",
      "\r",
      "                                                                               \r",
      "\r",
      "                                                                               \r",
      "\r",
      "                                                                               \r",
      "\r",
      "                                                                               \r",
      "\r",
      "                                                                               \r"
     ]
    },
    {
     "name": "stdout",
     "output_type": "stream",
     "text": [
      "#5 : [38 ms] train: 0.089191\n",
      "#6 : [34 ms] train: 0.087856\n",
      "#7 : [33 ms] train: 0.086666\n",
      "#8 : [39 ms] train: 0.085090\n",
      "#9 : [43 ms] train: 0.083802\n",
      "#10 : [34 ms] train: 0.084668\n",
      "#11 : [34 ms] train: 0.082783\n"
     ]
    },
    {
     "name": "stderr",
     "output_type": "stream",
     "text": [
      "\r",
      "                                                                               \r",
      "\r",
      "                                                                               \r",
      "\r",
      "                                                                               \r",
      "\r",
      "                                                                               \r",
      "\r",
      "                                                                               \r",
      "\r",
      "                                                                               \r"
     ]
    },
    {
     "name": "stdout",
     "output_type": "stream",
     "text": [
      "#12 : [35 ms] train: 0.082685\n",
      "#13 : [35 ms] train: 0.082551\n",
      "#14 : [43 ms] train: 0.082489\n",
      "#15 : [40 ms] train: 0.081406\n",
      "#16 : [35 ms] train: 0.082004\n",
      "#17 : [34 ms] train: 0.081782\n"
     ]
    },
    {
     "name": "stderr",
     "output_type": "stream",
     "text": [
      "\r",
      "                                                                               \r",
      "\r",
      "                                                                               \r",
      "\r",
      "                                                                               \r",
      "\r",
      "                                                                               \r",
      "\r",
      "                                                                               \r",
      "\r",
      "                                                                               \r"
     ]
    },
    {
     "name": "stdout",
     "output_type": "stream",
     "text": [
      "#18 : [35 ms] train: 0.083535\n",
      "#19 : [33 ms] train: 0.082934\n",
      "#20 : [37 ms] train: 0.081490\n",
      "#21 : [34 ms] train: 0.080676\n",
      "#22 : [35 ms] train: 0.083419\n"
     ]
    },
    {
     "name": "stderr",
     "output_type": "stream",
     "text": [
      "\r",
      "                                                                               \r",
      "\r",
      "                                                                               \r",
      "\r",
      "                                                                               \r",
      "\r",
      "                                                                               \r",
      "\r",
      "                                                                               \r",
      "\r",
      "                                                                               \r"
     ]
    },
    {
     "name": "stdout",
     "output_type": "stream",
     "text": [
      "#23 : [36 ms] train: 0.081309\n",
      "#24 : [36 ms] train: 0.081914\n",
      "#25 : [33 ms] train: 0.083284\n",
      "#26 : [34 ms] train: 0.081880\n",
      "#27 : [36 ms] train: 0.082453\n",
      "#28 : [33 ms] train: 0.082937\n",
      "#29 : [33 ms] train: 0.082683\n"
     ]
    },
    {
     "name": "stderr",
     "output_type": "stream",
     "text": [
      "\r",
      "                                                                               \r",
      "\r",
      "                                                                               \r",
      "\r",
      "                                                                               \r",
      "\r",
      "                                                                               \r",
      "\r",
      "                                                                               \r",
      "\r",
      "                                                                               \r"
     ]
    },
    {
     "name": "stdout",
     "output_type": "stream",
     "text": [
      "#30 : [35 ms] train: 0.082417\n",
      "#31 : [35 ms] train: 0.083845\n",
      "#32 : [39 ms] train: 0.083247\n",
      "#33 : [35 ms] train: 0.083022\n",
      "#34 : [36 ms] train: 0.082469\n",
      "#35 : [34 ms] train: 0.082879\n"
     ]
    },
    {
     "name": "stderr",
     "output_type": "stream",
     "text": [
      "\r",
      "                                                                               \r",
      "\r",
      "                                                                               \r",
      "\r",
      "                                                                               \r",
      "\r",
      "                                                                               \r",
      "\r",
      "                                                                               \r",
      "\r",
      "                                                                               \r"
     ]
    },
    {
     "name": "stdout",
     "output_type": "stream",
     "text": [
      "#36 : [34 ms] train: 0.083445\n",
      "#37 : [35 ms] train: 0.082860\n",
      "#38 : [38 ms] train: 0.081381\n",
      "#39 : [36 ms] train: 0.082726\n",
      "#40 : [33 ms] train: 0.080091\n",
      "#41 : [33 ms] train: 0.083503\n"
     ]
    },
    {
     "name": "stderr",
     "output_type": "stream",
     "text": [
      "\r",
      "                                                                               \r",
      "\r",
      "                                                                               \r",
      "\r",
      "                                                                               \r",
      "\r",
      "                                                                               \r",
      "\r",
      "                                                                               \r",
      "\r",
      "                                                                               \r"
     ]
    },
    {
     "name": "stdout",
     "output_type": "stream",
     "text": [
      "#42 : [34 ms] train: 0.081517\n",
      "#43 : [34 ms] train: 0.082159\n",
      "#44 : [38 ms] train: 0.082809\n",
      "#45 : [37 ms] train: 0.083327\n",
      "#46 : [35 ms] train: 0.082358\n",
      "#47 : [34 ms] train: 0.081831\n",
      "#48 : [35 ms] train: 0.080933\n"
     ]
    },
    {
     "name": "stderr",
     "output_type": "stream",
     "text": [
      "\r",
      "                                                                               \r",
      "\r",
      "                                                                               \r",
      "\r",
      "                                                                               \r",
      "\r",
      "                                                                               \r",
      "\r",
      "                                                                               \r",
      "\r",
      "                                                                               \r",
      "\r",
      "                                                                               \r"
     ]
    },
    {
     "name": "stdout",
     "output_type": "stream",
     "text": [
      "#49 : [35 ms] train: 0.081675\n",
      "#50 : [34 ms] train: 0.083449\n",
      "#51 : [36 ms] train: 0.082062\n",
      "#52 : [35 ms] train: 0.080909\n",
      "#53 : [37 ms] train: 0.080924\n",
      "#54 : [32 ms] train: 0.082527\n",
      "#55 : [30 ms] train: 0.081844\n",
      "#56 : [31 ms] train: 0.082225\n"
     ]
    },
    {
     "name": "stderr",
     "output_type": "stream",
     "text": [
      "\r",
      "                                                                               \r",
      "\r",
      "                                                                               \r",
      "\r",
      "                                                                               \r",
      "\r",
      "                                                                               \r",
      "\r",
      "                                                                               \r",
      "\r",
      "                                                                               \r",
      "\r",
      "                                                                               \r"
     ]
    },
    {
     "name": "stdout",
     "output_type": "stream",
     "text": [
      "#57 : [34 ms] train: 0.081868\n",
      "#58 : [35 ms] train: 0.082093\n",
      "#59 : [35 ms] train: 0.081866\n",
      "#60 : [34 ms] train: 0.082622\n",
      "#61 : [33 ms] train: 0.080699\n",
      "#62 : [34 ms] train: 0.082545\n"
     ]
    },
    {
     "name": "stderr",
     "output_type": "stream",
     "text": [
      "\r",
      "                                                                               \r",
      "\r",
      "                                                                               \r",
      "\r",
      "                                                                               \r",
      "\r",
      "                                                                               \r",
      "\r",
      "                                                                               \r",
      "\r",
      "                                                                               \r",
      "\r",
      "                                                                               \r"
     ]
    },
    {
     "name": "stdout",
     "output_type": "stream",
     "text": [
      "#63 : [34 ms] train: 0.081084\n",
      "#64 : [35 ms] train: 0.080922\n",
      "#65 : [38 ms] train: 0.081369\n",
      "#66 : [37 ms] train: 0.080896\n",
      "#67 : [35 ms] train: 0.082123\n",
      "#68 : [36 ms] train: 0.082465\n",
      "#69 : [38 ms] train: 0.081969\n"
     ]
    },
    {
     "name": "stderr",
     "output_type": "stream",
     "text": [
      "                                                                               \r"
     ]
    },
    {
     "name": "stdout",
     "output_type": "stream",
     "text": [
      "#70 : [46 ms] train: 0.080970\n",
      "#71 : [38 ms] train: 0.080484\n",
      "#72 : [41 ms] train: 0.080991\n",
      "#73 : [35 ms] train: 0.081536\n",
      "#74 : [34 ms] train: 0.081138\n",
      "#75 : [31 ms] train: 0.081796\n"
     ]
    },
    {
     "name": "stderr",
     "output_type": "stream",
     "text": [
      "\r",
      "                                                                               \r",
      "\r",
      "                                                                               \r",
      "\r",
      "                                                                               \r",
      "\r",
      "                                                                               \r",
      "\r",
      "                                                                               \r",
      "\r",
      "                                                                               \r"
     ]
    },
    {
     "name": "stdout",
     "output_type": "stream",
     "text": [
      "#76 : [36 ms] train: 0.080434\n",
      "#77 : [38 ms] train: 0.081980\n",
      "#78 : [35 ms] train: 0.080641\n",
      "#79 : [35 ms] train: 0.080817\n",
      "#80 : [37 ms] train: 0.081722\n",
      "#81 : [36 ms] train: 0.081163\n"
     ]
    },
    {
     "name": "stderr",
     "output_type": "stream",
     "text": [
      "\r",
      "                                                                               \r",
      "\r",
      "                                                                               \r",
      "\r",
      "                                                                               \r",
      "\r",
      "                                                                               \r",
      "\r",
      "                                                                               \r",
      "\r",
      "                                                                               \r"
     ]
    },
    {
     "name": "stdout",
     "output_type": "stream",
     "text": [
      "#82 : [39 ms] train: 0.080940\n",
      "#83 : [37 ms] train: 0.080967\n",
      "#84 : [33 ms] train: 0.080831\n",
      "#85 : [34 ms] train: 0.080664\n",
      "#86 : [33 ms] train: 0.080961\n",
      "#87 : [35 ms] train: 0.080875\n"
     ]
    },
    {
     "name": "stderr",
     "output_type": "stream",
     "text": [
      "\r",
      "                                                                               \r",
      "\r",
      "                                                                               \r",
      "\r",
      "                                                                               \r",
      "\r",
      "                                                                               \r",
      "\r",
      "                                                                               \r",
      "\r",
      "                                                                               \r",
      "\r",
      "                                                                               \r"
     ]
    },
    {
     "name": "stdout",
     "output_type": "stream",
     "text": [
      "#88 : [32 ms] train: 0.080512\n",
      "#89 : [35 ms] train: 0.080916\n",
      "#90 : [34 ms] train: 0.081321\n",
      "#91 : [34 ms] train: 0.080432\n",
      "#92 : [32 ms] train: 0.079839\n",
      "#93 : [34 ms] train: 0.081145\n",
      "#94 : [32 ms] train: 0.080444\n"
     ]
    },
    {
     "name": "stderr",
     "output_type": "stream",
     "text": [
      "\r",
      "                                                                               \r",
      "\r",
      "                                                                               \r",
      "\r",
      "                                                                               \r",
      "\r",
      "                                                                               \r",
      "\r",
      "                                                                               \r",
      "\r",
      "                                                                               \r",
      "\r",
      "                                                                               \r"
     ]
    },
    {
     "name": "stdout",
     "output_type": "stream",
     "text": [
      "#95 : [32 ms] train: 0.081026\n",
      "#96 : [35 ms] train: 0.079967\n",
      "#97 : [36 ms] train: 0.080902\n",
      "#98 : [36 ms] train: 0.080881\n",
      "#99 : [36 ms] train: 0.079018\n",
      "#100 : [32 ms] train: 0.080419\n",
      "#101 : [34 ms] train: 0.080011\n"
     ]
    },
    {
     "name": "stderr",
     "output_type": "stream",
     "text": [
      "\r",
      "                                                                               \r",
      "\r",
      "                                                                               \r",
      "\r",
      "                                                                               \r",
      "\r",
      "                                                                               \r",
      "\r",
      "                                                                               \r",
      "\r",
      "                                                                               \r",
      "\r",
      "                                                                               \r"
     ]
    },
    {
     "name": "stdout",
     "output_type": "stream",
     "text": [
      "#102 : [34 ms] train: 0.080470\n",
      "#103 : [34 ms] train: 0.080060\n",
      "#104 : [35 ms] train: 0.081307\n",
      "#105 : [35 ms] train: 0.080357\n",
      "#106 : [34 ms] train: 0.079791\n",
      "#107 : [34 ms] train: 0.080268\n",
      "#108 : [34 ms] train: 0.081362\n"
     ]
    },
    {
     "name": "stderr",
     "output_type": "stream",
     "text": [
      "\r",
      "                                                                               \r",
      "\r",
      "                                                                               \r",
      "\r",
      "                                                                               \r",
      "\r",
      "                                                                               \r",
      "\r",
      "                                                                               \r",
      "\r",
      "                                                                               \r",
      "\r",
      "                                                                               \r",
      "\r",
      "                                                                               \r"
     ]
    },
    {
     "name": "stdout",
     "output_type": "stream",
     "text": [
      "#109 : [35 ms] train: 0.080198\n",
      "#110 : [34 ms] train: 0.080813\n",
      "#111 : [33 ms] train: 0.080979\n",
      "#112 : [37 ms] train: 0.079678\n",
      "#113 : [33 ms] train: 0.080357\n",
      "#114 : [32 ms] train: 0.079968\n",
      "#115 : [31 ms] train: 0.081168\n",
      "#116 : [34 ms] train: 0.079379\n"
     ]
    },
    {
     "name": "stderr",
     "output_type": "stream",
     "text": [
      "\r",
      "                                                                               \r",
      "\r",
      "                                                                               \r",
      "\r",
      "                                                                               \r",
      "\r",
      "                                                                               \r",
      "\r",
      "                                                                               \r",
      "\r",
      "                                                                               \r",
      "\r",
      "                                                                               \r",
      "\r",
      "                                                                               \r"
     ]
    },
    {
     "name": "stdout",
     "output_type": "stream",
     "text": [
      "#117 : [34 ms] train: 0.079543\n",
      "#118 : [34 ms] train: 0.079480\n",
      "#119 : [35 ms] train: 0.080382\n",
      "#120 : [31 ms] train: 0.078982\n",
      "#121 : [34 ms] train: 0.080581\n",
      "#122 : [34 ms] train: 0.080152\n",
      "#123 : [34 ms] train: 0.080152\n"
     ]
    },
    {
     "name": "stderr",
     "output_type": "stream",
     "text": [
      "\r",
      "                                                                               \r",
      "\r",
      "                                                                               \r",
      "\r",
      "                                                                               \r",
      "\r",
      "                                                                               \r",
      "\r",
      "                                                                               \r"
     ]
    },
    {
     "name": "stdout",
     "output_type": "stream",
     "text": [
      "#124 : [32 ms] train: 0.079964\n",
      "#125 : [34 ms] train: 0.080269\n",
      "#126 : [33 ms] train: 0.080252\n",
      "#127 : [32 ms] train: 0.079596\n",
      "#128 : [31 ms] train: 0.080355\n",
      "#129 : [33 ms] train: 0.079377\n",
      "#130 : [34 ms] train: 0.079891\n",
      "#131 : [35 ms] train: 0.080451\n"
     ]
    },
    {
     "name": "stderr",
     "output_type": "stream",
     "text": [
      "\r",
      "                                                                               \r",
      "\r",
      "                                                                               \r",
      "\r",
      "                                                                               \r",
      "\r",
      "                                                                               \r",
      "\r",
      "                                                                               \r",
      "\r",
      "                                                                               \r",
      "\r",
      "                                                                               \r"
     ]
    },
    {
     "name": "stdout",
     "output_type": "stream",
     "text": [
      "#132 : [37 ms] train: 0.080243\n",
      "#133 : [35 ms] train: 0.079835\n",
      "#134 : [37 ms] train: 0.080087\n",
      "#135 : [36 ms] train: 0.079218\n",
      "#136 : [31 ms] train: 0.080257\n",
      "#137 : [34 ms] train: 0.080230\n",
      "#138 : [32 ms] train: 0.079670\n"
     ]
    },
    {
     "name": "stderr",
     "output_type": "stream",
     "text": [
      "\r",
      "                                                                               \r",
      "\r",
      "                                                                               \r",
      "\r",
      "                                                                               \r",
      "\r",
      "                                                                               \r",
      "\r",
      "                                                                               \r",
      "\r",
      "                                                                               \r",
      "\r",
      "                                                                               \r"
     ]
    },
    {
     "name": "stdout",
     "output_type": "stream",
     "text": [
      "#139 : [35 ms] train: 0.080045\n",
      "#140 : [35 ms] train: 0.079319\n",
      "#141 : [34 ms] train: 0.079605\n",
      "#142 : [35 ms] train: 0.080235\n",
      "#143 : [36 ms] train: 0.079755\n",
      "#144 : [35 ms] train: 0.079613\n",
      "#145 : [31 ms] train: 0.080156\n",
      "#146 : [35 ms] train: 0.079260\n"
     ]
    },
    {
     "name": "stderr",
     "output_type": "stream",
     "text": [
      "\r",
      "                                                                               \r",
      "\r",
      "                                                                               \r",
      "\r",
      "                                                                               \r",
      "\r",
      "                                                                               \r",
      "\r",
      "                                                                               \r"
     ]
    },
    {
     "name": "stdout",
     "output_type": "stream",
     "text": [
      "#147 : [34 ms] train: 0.079209\n",
      "#148 : [34 ms] train: 0.079589\n",
      "#149 : [34 ms] train: 0.079382\n",
      "#150 : [35 ms] train: 0.079132\n",
      "#151 : [34 ms] train: 0.079697\n",
      "#152 : [35 ms] train: 0.080275\n",
      "#153 : [34 ms] train: 0.079530\n"
     ]
    },
    {
     "name": "stderr",
     "output_type": "stream",
     "text": [
      "\r",
      "                                                                               \r",
      "\r",
      "                                                                               \r",
      "\r",
      "                                                                               \r",
      "\r",
      "                                                                               \r",
      "\r",
      "                                                                               \r",
      "\r",
      "                                                                               \r",
      "\r",
      "                                                                               \r"
     ]
    },
    {
     "name": "stdout",
     "output_type": "stream",
     "text": [
      "#154 : [35 ms] train: 0.079956\n",
      "#155 : [36 ms] train: 0.079454\n",
      "#156 : [38 ms] train: 0.080061\n",
      "#157 : [35 ms] train: 0.078843\n",
      "#158 : [33 ms] train: 0.079436\n",
      "#159 : [32 ms] train: 0.078716\n",
      "#160 : [31 ms] train: 0.079929\n"
     ]
    },
    {
     "name": "stderr",
     "output_type": "stream",
     "text": [
      "\r",
      "                                                                               \r",
      "\r",
      "                                                                               \r",
      "\r",
      "                                                                               \r",
      "\r",
      "                                                                               \r",
      "\r",
      "                                                                               \r",
      "\r",
      "                                                                               \r",
      "\r",
      "                                                                               \r"
     ]
    },
    {
     "name": "stdout",
     "output_type": "stream",
     "text": [
      "#161 : [34 ms] train: 0.079957\n",
      "#162 : [33 ms] train: 0.079154\n",
      "#163 : [34 ms] train: 0.079266\n",
      "#164 : [37 ms] train: 0.079287\n",
      "#165 : [31 ms] train: 0.079839\n",
      "#166 : [34 ms] train: 0.079578\n",
      "#167 : [33 ms] train: 0.079742\n"
     ]
    },
    {
     "name": "stderr",
     "output_type": "stream",
     "text": [
      "\r",
      "                                                                               \r",
      "\r",
      "                                                                               \r",
      "\r",
      "                                                                               \r",
      "\r",
      "                                                                               \r",
      "\r",
      "                                                                               \r",
      "\r",
      "                                                                               \r",
      "\r",
      "                                                                               \r"
     ]
    },
    {
     "name": "stdout",
     "output_type": "stream",
     "text": [
      "#168 : [35 ms] train: 0.079168\n",
      "#169 : [33 ms] train: 0.078686\n",
      "#170 : [36 ms] train: 0.080018\n",
      "#171 : [34 ms] train: 0.079102\n",
      "#172 : [33 ms] train: 0.079183\n",
      "#173 : [34 ms] train: 0.080103\n"
     ]
    },
    {
     "name": "stderr",
     "output_type": "stream",
     "text": [
      "\r",
      "                                                                               \r",
      "\r",
      "                                                                               \r",
      "\r",
      "                                                                               \r",
      "\r",
      "                                                                               \r",
      "\r",
      "                                                                               \r",
      "\r",
      "                                                                               \r",
      "\r",
      "                                                                               \r"
     ]
    },
    {
     "name": "stdout",
     "output_type": "stream",
     "text": [
      "#174 : [34 ms] train: 0.079273\n",
      "#175 : [34 ms] train: 0.079101\n",
      "#176 : [35 ms] train: 0.079422\n",
      "#177 : [34 ms] train: 0.079011\n",
      "#178 : [34 ms] train: 0.079445\n",
      "#179 : [42 ms] train: 0.079387\n",
      "#180 : [37 ms] train: 0.078871\n"
     ]
    },
    {
     "name": "stderr",
     "output_type": "stream",
     "text": [
      "\r",
      "                                                                               \r",
      "\r",
      "                                                                               \r",
      "\r",
      "                                                                               \r",
      "\r",
      "                                                                               \r",
      "\r",
      "                                                                               \r",
      "\r",
      "                                                                               \r",
      "\r",
      "                                                                               \r"
     ]
    },
    {
     "name": "stdout",
     "output_type": "stream",
     "text": [
      "#181 : [33 ms] train: 0.079926\n",
      "#182 : [36 ms] train: 0.079057\n",
      "#183 : [35 ms] train: 0.079244\n",
      "#184 : [38 ms] train: 0.078855\n",
      "#185 : [34 ms] train: 0.079579\n",
      "#186 : [32 ms] train: 0.079656\n",
      "#187 : [34 ms] train: 0.079537\n",
      "#188 : [35 ms] train: 0.079365\n"
     ]
    },
    {
     "name": "stderr",
     "output_type": "stream",
     "text": [
      "\r",
      "                                                                               \r",
      "\r",
      "                                                                               \r",
      "\r",
      "                                                                               \r",
      "\r",
      "                                                                               \r",
      "\r",
      "                                                                               \r",
      "\r",
      "                                                                               \r"
     ]
    },
    {
     "name": "stdout",
     "output_type": "stream",
     "text": [
      "#189 : [35 ms] train: 0.078856\n",
      "#190 : [36 ms] train: 0.079820\n",
      "#191 : [36 ms] train: 0.079153\n",
      "#192 : [34 ms] train: 0.078736\n",
      "#193 : [37 ms] train: 0.079112\n",
      "#194 : [31 ms] train: 0.078846\n",
      "#195 : [34 ms] train: 0.079162\n"
     ]
    },
    {
     "name": "stderr",
     "output_type": "stream",
     "text": [
      "\r",
      "                                                                               \r",
      "\r",
      "                                                                               \r",
      "\r",
      "                                                                               \r",
      "\r",
      "                                                                               \r",
      "\r",
      "                                                                               \r",
      "\r",
      "                                                                               \r",
      "\r",
      "                                                                               \r",
      "\r",
      "                                                                               \r",
      "\r",
      "                                                                               \r"
     ]
    },
    {
     "name": "stdout",
     "output_type": "stream",
     "text": [
      "#196 : [35 ms] train: 0.078647\n",
      "#197 : [37 ms] train: 0.078722\n",
      "#198 : [34 ms] train: 0.079445\n",
      "#199 : [34 ms] train: 0.078993\n",
      "#200 : [34 ms] train: 0.078653\n"
     ]
    },
    {
     "name": "stderr",
     "output_type": "stream",
     "text": [
      "\r",
      "                                                                               \r",
      "\r",
      "                                                                               \r"
     ]
    },
    {
     "data": {
      "image/png": "[encoded data removed]",
      "text/plain": [
       "<Figure size 432x288 with 1 Axes>"
      ]
     },
     "metadata": {},
     "output_type": "display_data"
    }
   ],
   "source": [
    "plt.style.use('ggplot')\n",
    "utils.reproducible()\n",
    "\n",
    "\n",
    "ggplot_colors = plt.rcParams['axes.prop_cycle']\n",
    "colors = np.array([c['color'] for c in ggplot_colors])\n",
    "\n",
    "dataset = datasets.load_iris()\n",
    "# use only two features in order\n",
    "# to make visualization simpler\n",
    "data = dataset.data[:, [1, 3]]\n",
    "target = dataset.target\n",
    "\n",
    "sofm = algorithms.SOFM(\n",
    "    # Use only two features for the input\n",
    "    n_inputs=2,\n",
    "\n",
    "    # Number of outputs defines number of features\n",
    "    # in the SOFM or in terms of clustering - number\n",
    "    # of clusters\n",
    "    n_outputs=20,\n",
    "\n",
    "    # In clustering application we will prefer that\n",
    "    # clusters will be updated independently from each\n",
    "    # other. For this reason we set up learning radius\n",
    "    # equal to zero\n",
    "    learning_radius=0,\n",
    "\n",
    "    # Training step size or learning rate\n",
    "    step=0.25,\n",
    "\n",
    "    # Shuffles dataset before every training epoch.\n",
    "    shuffle_data=True,\n",
    "\n",
    "    # Instead of generating random weights\n",
    "    # (features / cluster centers) SOFM will sample\n",
    "    # them from the data. Which means that after\n",
    "    # initialization step 3 random data samples will\n",
    "    # become cluster centers\n",
    "    weight='sample_from_data',\n",
    "\n",
    "    # Shows training progress in terminal\n",
    "    verbose=True,\n",
    ")\n",
    "sofm.train(data, epochs=200)\n",
    "\n",
    "plt.title('Clustering iris dataset with SOFM')\n",
    "plt.xlabel('Feature #3')\n",
    "plt.ylabel('Feature #4')\n",
    "\n",
    "plt.scatter(*data.T, c=colors[target], s=100, alpha=1)\n",
    "cluster_centers = plt.scatter(*sofm.weight, s=300, c=colors[3])\n",
    "\n",
    "plt.legend([cluster_centers], ['Cluster center'], loc='upper left')\n",
    "plt.show()"
   ]
  }
 ],
 "metadata": {
  "kernelspec": {
   "display_name": "Python [conda env:pdi] *",
   "language": "python",
   "name": "conda-env-pdi-py"
  },
  "language_info": {
   "codemirror_mode": {
    "name": "ipython",
    "version": 3
   },
   "file_extension": ".py",
   "mimetype": "text/x-python",
   "name": "python",
   "nbconvert_exporter": "python",
   "pygments_lexer": "ipython3",
   "version": "3.6.8"
  }
 },
 "nbformat": 4,
 "nbformat_minor": 2
}
