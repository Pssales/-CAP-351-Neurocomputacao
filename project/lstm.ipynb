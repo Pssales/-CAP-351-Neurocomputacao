{
 "cells": [
  {
   "cell_type": "code",
   "execution_count": 1,
   "metadata": {
    "ExecuteTime": {
     "end_time": "2019-12-03T11:26:08.731572Z",
     "start_time": "2019-12-03T11:25:46.086026Z"
    }
   },
   "outputs": [
    {
     "name": "stderr",
     "output_type": "stream",
     "text": [
      "Using TensorFlow backend.\n"
     ]
    }
   ],
   "source": [
    "from keras.layers import Dense, Dropout, LSTM, Embedding\n",
    "from keras.preprocessing.sequence import pad_sequences\n",
    "from keras.models import Sequential\n",
    "import pandas as pd\n",
    "import numpy as np"
   ]
  },
  {
   "cell_type": "code",
   "execution_count": 2,
   "metadata": {
    "ExecuteTime": {
     "end_time": "2019-12-03T11:26:24.969062Z",
     "start_time": "2019-12-03T11:26:08.735566Z"
    }
   },
   "outputs": [
    {
     "name": "stdout",
     "output_type": "stream",
     "text": [
      "Loading data...\n",
      "Creating model...\n",
      "WARNING:tensorflow:From C:\\Users\\Camila\\Anaconda3\\envs\\pdi\\lib\\site-packages\\tensorflow\\python\\ops\\resource_variable_ops.py:435: colocate_with (from tensorflow.python.framework.ops) is deprecated and will be removed in a future version.\n",
      "Instructions for updating:\n",
      "Colocations handled automatically by placer.\n"
     ]
    },
    {
     "name": "stderr",
     "output_type": "stream",
     "text": [
      "C:\\Users\\Camila\\Anaconda3\\envs\\pdi\\lib\\site-packages\\ipykernel_launcher.py:23: UserWarning: Update your `LSTM` call to the Keras 2 API: `LSTM(activation=\"sigmoid\", return_sequences=True, units=256, recurrent_activation=\"hard_sigmoid\")`\n",
      "C:\\Users\\Camila\\Anaconda3\\envs\\pdi\\lib\\site-packages\\ipykernel_launcher.py:25: UserWarning: Update your `LSTM` call to the Keras 2 API: `LSTM(activation=\"sigmoid\", units=256, recurrent_activation=\"hard_sigmoid\")`\n"
     ]
    },
    {
     "name": "stdout",
     "output_type": "stream",
     "text": [
      "Compiling...\n",
      "Fitting model...\n"
     ]
    },
    {
     "name": "stderr",
     "output_type": "stream",
     "text": [
      "C:\\Users\\Camila\\Anaconda3\\envs\\pdi\\lib\\site-packages\\ipykernel_launcher.py:41: UserWarning: The `nb_epoch` argument in `fit` has been renamed `epochs`.\n"
     ]
    },
    {
     "name": "stdout",
     "output_type": "stream",
     "text": [
      "WARNING:tensorflow:From C:\\Users\\Camila\\Anaconda3\\envs\\pdi\\lib\\site-packages\\tensorflow\\python\\ops\\math_ops.py:3066: to_int32 (from tensorflow.python.ops.math_ops) is deprecated and will be removed in a future version.\n",
      "Instructions for updating:\n",
      "Use tf.cast instead.\n",
      "Train on 6 samples, validate on 1 samples\n",
      "Epoch 1/10\n",
      "6/6 [==============================] - 4s 703ms/step - loss: 0.7203 - accuracy: 0.3333 - val_loss: 1.4065 - val_accuracy: 0.0000e+00\n",
      "Epoch 2/10\n",
      "6/6 [==============================] - 0s 7ms/step - loss: 0.6161 - accuracy: 0.6667 - val_loss: 1.1512 - val_accuracy: 0.0000e+00\n",
      "Epoch 3/10\n",
      "6/6 [==============================] - 0s 9ms/step - loss: 0.6560 - accuracy: 0.6667 - val_loss: 1.0279 - val_accuracy: 0.0000e+00\n",
      "Epoch 4/10\n",
      "6/6 [==============================] - 0s 9ms/step - loss: 0.6638 - accuracy: 0.6667 - val_loss: 0.9043 - val_accuracy: 0.0000e+00\n",
      "Epoch 5/10\n",
      "6/6 [==============================] - 0s 9ms/step - loss: 0.7655 - accuracy: 0.5000 - val_loss: 1.0213 - val_accuracy: 0.0000e+00\n",
      "Epoch 6/10\n",
      "6/6 [==============================] - 0s 13ms/step - loss: 0.7199 - accuracy: 0.5000 - val_loss: 1.2680 - val_accuracy: 0.0000e+00\n",
      "Epoch 7/10\n",
      "6/6 [==============================] - 0s 11ms/step - loss: 0.6863 - accuracy: 0.6667 - val_loss: 1.0107 - val_accuracy: 0.0000e+00\n",
      "Epoch 8/10\n",
      "6/6 [==============================] - 0s 9ms/step - loss: 0.6357 - accuracy: 0.6667 - val_loss: 1.0328 - val_accuracy: 0.0000e+00\n",
      "Epoch 9/10\n",
      "6/6 [==============================] - 0s 13ms/step - loss: 0.6483 - accuracy: 0.5000 - val_loss: 1.1143 - val_accuracy: 0.0000e+00\n",
      "Epoch 10/10\n",
      "6/6 [==============================] - 0s 9ms/step - loss: 0.5587 - accuracy: 0.6667 - val_loss: 1.3507 - val_accuracy: 0.0000e+00\n",
      "2/2 [==============================] - 0s 8ms/step\n",
      "Test score: 0.8264896869659424\n",
      "Test accuracy: 0.5\n"
     ]
    }
   ],
   "source": [
    "\n",
    "\n",
    "input_file = 'input.csv'\n",
    "\n",
    "def load_data(test_split = 0.2):\n",
    "    print ('Loading data...')\n",
    "    df = pd.read_csv(input_file)\n",
    "    df['sequence'] = df['sequence'].apply(lambda x: [int(e) for e in x.split()])\n",
    "    df = df.reindex(np.random.permutation(df.index))\n",
    "\n",
    "    train_size = int(len(df) * (1 - test_split))\n",
    "\n",
    "    X_train = df['sequence'].values[:train_size]\n",
    "    y_train = np.array(df['target'].values[:train_size])\n",
    "    X_test = np.array(df['sequence'].values[train_size:])\n",
    "    y_test = np.array(df['target'].values[train_size:])\n",
    "\n",
    "    return pad_sequences(X_train), y_train, pad_sequences(X_test), y_test\n",
    "\n",
    "\n",
    "def create_model(input_length):\n",
    "    print ('Creating model...')\n",
    "    model = Sequential()\n",
    "    model.add(Embedding(input_dim = 188, output_dim = 50, input_length = input_length))\n",
    "    model.add(LSTM(output_dim=256, activation='sigmoid', inner_activation='hard_sigmoid', return_sequences=True))\n",
    "    model.add(Dropout(0.5))\n",
    "    model.add(LSTM(output_dim=256, activation='sigmoid', inner_activation='hard_sigmoid'))\n",
    "    model.add(Dropout(0.5))\n",
    "    model.add(Dense(1, activation='sigmoid'))\n",
    "\n",
    "    print ('Compiling...')\n",
    "    model.compile(loss='binary_crossentropy',\n",
    "                  optimizer='rmsprop',\n",
    "                  metrics=['accuracy'])\n",
    "    return model\n",
    "\n",
    "\n",
    "X_train, y_train, X_test, y_test = load_data()\n",
    "\n",
    "model = create_model(len(X_train[0]))\n",
    "\n",
    "print ('Fitting model...')\n",
    "hist = model.fit(X_train, y_train, batch_size=64, nb_epoch=10, validation_split = 0.1, verbose = 1)\n",
    "\n",
    "score, acc = model.evaluate(X_test, y_test, batch_size=1)\n",
    "print('Test score:', score)\n",
    "print('Test accuracy:', acc)"
   ]
  },
  {
   "cell_type": "code",
   "execution_count": null,
   "metadata": {},
   "outputs": [],
   "source": []
  }
 ],
 "metadata": {
  "kernelspec": {
   "display_name": "Python 3",
   "language": "python",
   "name": "python3"
  },
  "language_info": {
   "codemirror_mode": {
    "name": "ipython",
    "version": 3
   },
   "file_extension": ".py",
   "mimetype": "text/x-python",
   "name": "python",
   "nbconvert_exporter": "python",
   "pygments_lexer": "ipython3",
   "version": "3.7.3"
  }
 },
 "nbformat": 4,
 "nbformat_minor": 2
}
